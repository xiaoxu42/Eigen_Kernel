{
 "cells": [
  {
   "cell_type": "code",
   "execution_count": 1,
   "metadata": {},
   "outputs": [],
   "source": [
    "import numpy as np\n",
    "import math\n",
    "import scipy.integrate as integrate\n",
    "import matplotlib.pyplot as plt\n",
    "%matplotlib inline"
   ]
  },
  {
   "cell_type": "code",
   "execution_count": 17,
   "metadata": {},
   "outputs": [],
   "source": [
    "from mpl_toolkits import mplot3d"
   ]
  },
  {
   "cell_type": "code",
   "execution_count": 2,
   "metadata": {},
   "outputs": [],
   "source": [
    "l = 0.02\n",
    "epsilon = l/2/math.pi"
   ]
  },
  {
   "cell_type": "code",
   "execution_count": 3,
   "metadata": {},
   "outputs": [],
   "source": [
    "def A_operator(kx,ky,n):\n",
    "    \n",
    "    #n = 40\n",
    "    a = 1.5\n",
    "    b = 1.4\n",
    "    c = 1\n",
    "    d = 0.6\n",
    "    NN = (2*n+1)*(2*n+1)\n",
    "    A = np.zeros((2*NN, 2*NN))\n",
    "    epsilon = l/2/math.pi\n",
    "    \n",
    "    for j in range(-n,n+1):\n",
    "        for i in range(-n,n+1):\n",
    "            index = (j+n)*(2*n+1)+i+n\n",
    "            sigmaxxx = np.zeros((1,2*NN))\n",
    "            sigmaxyy = np.zeros((1,2*NN))\n",
    "            sigmayxx = np.zeros((1,2*NN))\n",
    "            sigmayyy = np.zeros((1,2*NN))\n",
    "        \n",
    "            sigmaxxx[0,index] = (a+2*c)*(i/epsilon + kx)*(i/epsilon + kx)\n",
    "            sigmaxxx[0,index+NN] =a*(j/epsilon + ky)*(i/epsilon + kx)\n",
    "            sigmaxyy[0,index] = c*(j/epsilon + ky)*(j/epsilon + ky)\n",
    "            sigmaxyy[0,index+NN] = c*(i/epsilon + kx)*(j/epsilon + ky)\n",
    "            sigmayxx[0,index] = c*(j/epsilon + ky)*(i/epsilon + kx)\n",
    "            sigmayxx[0,index+NN] = c*(i/epsilon + kx)*(i/epsilon + kx)\n",
    "            sigmayyy[0,index] = a*(i/epsilon + kx)*(j/epsilon + ky)\n",
    "            sigmayyy[0,index+NN] = (a+2*c)*(j/epsilon + ky)*(j/epsilon + ky)\n",
    "            \n",
    "            \n",
    "            \n",
    "            if i!=-n:\n",
    "                sigmaxxx[0,index-1] = b/2*(i/epsilon + kx)*(i/epsilon - 1/epsilon + kx)\n",
    "                sigmayyy[0,index-1] = b/2*(i/epsilon + kx)*(j/epsilon + ky)\n",
    "                sigmaxxx[0,index+NN-1] =b/2*(j/epsilon + ky)*(i/epsilon - 1/epsilon + kx)\n",
    "                sigmayyy[0,index+NN-1] = b/2*(j/epsilon + ky)*(j/epsilon + ky)\n",
    "\n",
    "\n",
    "\n",
    "            if i!=n:\n",
    "                sigmaxxx[0,index+1] = b/2*(i/epsilon + kx)*(i/epsilon + 1/epsilon + kx)\n",
    "                sigmayyy[0,index+1] = b/2*(i/epsilon + kx)*(j/epsilon + ky)\n",
    "                sigmaxxx[0,index+NN+1] =b/2*(j/epsilon + ky)*(i/epsilon + 1/epsilon + kx)\n",
    "                sigmayyy[0,index+NN+1] = b/2*(j/epsilon + ky)*(j/epsilon + ky)\n",
    "\n",
    "            if j!=-n:\n",
    "                sigmaxxx[0,index-2*n-1] = d*(i/epsilon + kx)*(i/epsilon + kx)\n",
    "                sigmaxyy[0,index-2*n-1] = d/2*(j/epsilon + ky)*(j/epsilon -1/epsilon + ky)\n",
    "                sigmaxyy[0,index+NN-2*n-1] = d/2*(i/epsilon + kx)*(j/epsilon - 1/epsilon + ky)\n",
    "                sigmayxx[0,index-2*n-1] = d/2*(j/epsilon + ky)*(i/epsilon + kx)\n",
    "                sigmayxx[0,index+NN-2*n-1] = d/2*(i/epsilon + kx)*(i/epsilon + kx)\n",
    "                sigmayyy[0,index+NN-2*n-1] = d*(j/epsilon + ky)*(j/epsilon - 1/epsilon + ky)\n",
    "\n",
    "\n",
    "\n",
    "            if j!=n:\n",
    "                sigmaxxx[0,index+2*n+1] = d*(i/epsilon + kx)*(i/epsilon + kx)\n",
    "                sigmaxyy[0,index+2*n+1] = d/2*(j/epsilon + ky)*(j/epsilon + 1/epsilon + ky)\n",
    "                sigmaxyy[0,index+NN+2*n+1] = d/2*(i/epsilon + kx)*(j/epsilon + 1/epsilon + ky)\n",
    "                sigmayxx[0,index+2*n+1] = d/2*(j/epsilon + ky)*(i/epsilon + kx)\n",
    "                sigmayxx[0,index+NN+2*n+1] = d/2*(i/epsilon + kx)*(i/epsilon + kx)\n",
    "                sigmayyy[0,index+NN+2*n+1] = d*(j/epsilon + ky)*(j/epsilon + 1/epsilon + ky)\n",
    "            \n",
    "            A[index,:] = sigmaxxx + sigmaxyy\n",
    "            A[index+NN,:] = sigmayxx + sigmayyy\n",
    "        \n",
    "    \n",
    "    return A"
   ]
  },
  {
   "cell_type": "code",
   "execution_count": 4,
   "metadata": {},
   "outputs": [
    {
     "data": {
      "text/plain": [
       "-1.0190857113310923"
      ]
     },
     "execution_count": 4,
     "metadata": {},
     "output_type": "execute_result"
    }
   ],
   "source": [
    "eigen = np.linalg.eig(A_operator(0.2,1.2,5))\n",
    "np.min(eigen[0])"
   ]
  },
  {
   "cell_type": "code",
   "execution_count": 5,
   "metadata": {},
   "outputs": [],
   "source": [
    "def Eigenfunc(x,y,coeff,n):\n",
    "    \n",
    "    this_m = np.arange(-n,n+1)\n",
    "    this_n = np.arange(-n,n+1)\n",
    "    \n",
    "    exp_mx = np.exp(1j*this_m*x/epsilon)\n",
    "    exp_ny = np.exp(1j*this_n*y/epsilon)\n",
    "    \n",
    "    exp_xy_mat = np.outer(exp_ny,exp_mx)\n",
    "    exp_xy_vec = exp_xy_mat.flatten()\n",
    "    \n",
    "    return np.dot(exp_xy_vec,coeff)"
   ]
  },
  {
   "cell_type": "code",
   "execution_count": 6,
   "metadata": {},
   "outputs": [],
   "source": [
    "def myfunctoint_cal(kx,ky,x,y,this_x,this_y):\n",
    "    n= 3\n",
    "    NN = (2*n+1)*(2*n+1)\n",
    "    #this_x = l/8\n",
    "    eigen = np.linalg.eig(A_operator(kx,ky,n))\n",
    "    coeff = eigen[1][:,np.argmin(eigen[0])]\n",
    "    coeff_x = coeff[:NN]\n",
    "    coeff_y = coeff[NN:]\n",
    "    lamda_cal = np.min(eigen[0])\n",
    "    \n",
    "    fi_x = Eigenfunc(this_x,this_y,coeff_x,n)\n",
    "    fi_y = Eigenfunc(this_x,this_y,coeff_y,n)\n",
    "    \n",
    "    fi_xp = Eigenfunc(this_x+x,this_y+y,coeff_x,n)\n",
    "    fi_yp = Eigenfunc(this_x+x,this_y+y,coeff_y,n)\n",
    "    \n",
    "    kernel_toint = np.zeros((2, 2),dtype=complex)\n",
    "    \n",
    "    kernel_toint[0,0] = fi_x*np.conj(fi_xp)\n",
    "    kernel_toint[0,1] = fi_x*np.conj(fi_yp)\n",
    "    kernel_toint[1,0] = fi_y*np.conj(fi_xp)\n",
    "    kernel_toint[1,1] = fi_y*np.conj(fi_yp)\n",
    "    \n",
    "\n",
    "    return (np.exp(-1j*x*kx-1j*y*ky)*kernel_toint).real*lamda_cal/l\n",
    "    #return (np.exp(-1j*x*kx-1j*y*ky)*fi_x*np.conj(fi_xp)).real*lamda_cal/l"
   ]
  },
  {
   "cell_type": "code",
   "execution_count": 62,
   "metadata": {},
   "outputs": [
    {
     "data": {
      "text/plain": [
       "(20, 30)"
      ]
     },
     "execution_count": 62,
     "metadata": {},
     "output_type": "execute_result"
    }
   ],
   "source": [
    "x = np.linspace(0, 1, 20)\n",
    "y = np.linspace(0, 1, 30)\n",
    "z = np.cos(x[:,None])**4 + np.sin(y)**2\n",
    "z.shape"
   ]
  },
  {
   "cell_type": "code",
   "execution_count": 63,
   "metadata": {},
   "outputs": [
    {
     "data": {
      "text/plain": [
       "511.3376856772786"
      ]
     },
     "execution_count": 63,
     "metadata": {},
     "output_type": "execute_result"
    }
   ],
   "source": [
    "np.sum(z)"
   ]
  },
  {
   "cell_type": "code",
   "execution_count": 39,
   "metadata": {},
   "outputs": [
    {
     "data": {
      "text/plain": [
       "(20,)"
      ]
     },
     "execution_count": 39,
     "metadata": {},
     "output_type": "execute_result"
    }
   ],
   "source": [
    "x = np.linspace(0, 1, 20)\n",
    "y = np.linspace(0, 1, 30)\n",
    "z = np.exp(-1j*x[:,None]-1j*y)\n",
    "zz = integrate.simps(z, y)\n",
    "\n",
    "zz.shape"
   ]
  },
  {
   "cell_type": "code",
   "execution_count": 24,
   "metadata": {},
   "outputs": [
    {
     "data": {
      "text/plain": [
       "4"
      ]
     },
     "execution_count": 24,
     "metadata": {},
     "output_type": "execute_result"
    }
   ],
   "source": [
    "range(0,5)[4]"
   ]
  },
  {
   "cell_type": "code",
   "execution_count": 88,
   "metadata": {},
   "outputs": [],
   "source": [
    "def myfunction_cal_dis(lambda_dis,phi_x,phi_y,number_k,number_x,this_x,this_y):\n",
    "    #this_x,this_y=0\n",
    "    kernel_mat = np.zeros((4,number_x,number_x))\n",
    "    \n",
    "    kx = np.linspace(-1/2/epsilon,1/2/epsilon,number_k)\n",
    "    ky = np.linspace(-1/2/epsilon,1/2/epsilon,number_k)\n",
    "    \n",
    "    x = np.linspace(-l*10,l*10,number_x)\n",
    "    y = np.linspace(-l*10,l*10,number_x)\n",
    "\n",
    "    #KX,KY = np.meshgrid(kx,ky)\n",
    "\n",
    "    \n",
    "    mid = int((number_x-1)/2)\n",
    "    #fi_x = Eigenfunc(this_x,this_y,coeff_x,n)\n",
    "    fi_x = phi_x[:,:,mid+this_x,mid+this_y]\n",
    "    #fi_y = Eigenfunc(this_x,this_y,coeff_y,n)\n",
    "    fi_y = phi_y[:,:,mid+this_x,mid+this_y]\n",
    "    for i in range(this_x,number_x-this_x):\n",
    "        #print(i)\n",
    "        for j in range(this_y,number_x-this_y):\n",
    "            \n",
    "            \n",
    "            Exp_kernel = np.exp(-1j*x[i]*kx[:,None]-1j*y[j]*ky)\n",
    "    \n",
    "            #fi_xp = Eigenfunc(this_x+x,this_y+y,coeff_x,n)\n",
    "            fi_xp = phi_x[:,:,i+this_x,j+this_y]\n",
    "            #fi_yp = Eigenfunc(this_x+x,this_y+y,coeff_y,n)\n",
    "            fi_yp = phi_y[:,:,i+this_x,j+this_y]\n",
    "            \n",
    "            kernel_mat_toint00 = (Exp_kernel*fi_x*np.conj(fi_xp)).real*lambda_dis/epsilon/epsilon\n",
    "            kernel_mat_toint01 = (Exp_kernel*fi_x*np.conj(fi_yp)).real*lambda_dis/epsilon/epsilon\n",
    "            kernel_mat_toint10 = (Exp_kernel*fi_y*np.conj(fi_xp)).real*lambda_dis/epsilon/epsilon\n",
    "            kernel_mat_toint11 = (Exp_kernel*fi_y*np.conj(fi_yp)).real*lambda_dis/epsilon/epsilon\n",
    "            \n",
    "            #kernel_toint[0,0] = fi_x*np.conj(fi_xp)\n",
    "            #kernel_toint[0,1] = fi_x*np.conj(fi_yp)\n",
    "            #kernel_toint[1,0] = fi_y*np.conj(fi_xp)\n",
    "            #kernel_toint[1,1] = fi_y*np.conj(fi_yp)\n",
    "            \n",
    "            kernel_mat[0,i,j] = integrate.simps(integrate.simps(kernel_mat_toint00,ky),kx)\n",
    "            kernel_mat[1,i,j] = integrate.simps(integrate.simps(kernel_mat_toint01,ky),kx)\n",
    "            kernel_mat[2,i,j] = integrate.simps(integrate.simps(kernel_mat_toint10,ky),kx)\n",
    "            kernel_mat[3,i,j] = integrate.simps(integrate.simps(kernel_mat_toint11,ky),kx)\n",
    "            \n",
    "            \n",
    "            \n",
    "    \n",
    "    return kernel_mat\n",
    "    \n",
    "    "
   ]
  },
  {
   "cell_type": "code",
   "execution_count": 109,
   "metadata": {},
   "outputs": [],
   "source": [
    "testttt = myfunction_cal_dis(lambda_dis,phi_x,phi_y,number_k,number_x,4,0)"
   ]
  },
  {
   "cell_type": "code",
   "execution_count": 106,
   "metadata": {},
   "outputs": [
    {
     "name": "stdout",
     "output_type": "stream",
     "text": [
      "0 0\n",
      "0 1\n",
      "0 2\n",
      "0 3\n",
      "0 4\n",
      "1 0\n",
      "1 1\n",
      "1 2\n",
      "1 3\n",
      "1 4\n",
      "2 0\n",
      "2 1\n",
      "2 2\n",
      "2 3\n",
      "2 4\n",
      "3 0\n",
      "3 1\n",
      "3 2\n",
      "3 3\n",
      "3 4\n",
      "4 0\n",
      "4 1\n",
      "4 2\n",
      "4 3\n",
      "4 4\n"
     ]
    }
   ],
   "source": [
    "horizon = 5\n",
    "kernel_list = [[0]*horizon for i in range(horizon)]\n",
    "\n",
    "for i in range(horizon):\n",
    "    for j in range(horizon):\n",
    "        print(i,j)\n",
    "        # i=this_x, j=this_y\n",
    "        kernel_this = myfunction_cal_dis(lambda_dis,phi_x,phi_y,number_k,number_x,i,j)\n",
    "        kernel_list[i][j] = kernel_this"
   ]
  },
  {
   "cell_type": "code",
   "execution_count": null,
   "metadata": {},
   "outputs": [],
   "source": []
  },
  {
   "cell_type": "code",
   "execution_count": 193,
   "metadata": {},
   "outputs": [],
   "source": [
    "horizon = 45\n",
    "N = 50*5 + 1 + 2*horizon\n",
    "\n",
    "mid = int(N/2)\n",
    "\n",
    "NN = N*N\n",
    "\n",
    "kernel0 = [[np.zeros((4))]*5 for i in range(5)]\n",
    "for i in range(5):\n",
    "    for j in range(5):\n",
    "        kernel0[i][j] = -np.sum(kernel_list[i][j],axis=(1,2))\n",
    "rho = 8000\n",
    "L = 1\n",
    "l = 0.02\n",
    "Eave = 10e9\n",
    "Ttotal = 1e-3\n",
    "dt = 1e-8\n",
    "Tsteps = int(np.ceil(Ttotal/dt))\n",
    "u1 = np.zeros((N,N))\n",
    "u2 = np.zeros((N,N))\n",
    "utt = np.zeros((N,N))\n",
    "ut1 = np.zeros((N,N))\n",
    "ut2 = np.zeros((N,N))\n",
    "\n",
    "v1 = np.zeros((N,N))\n",
    "v2 = np.zeros((N,N))\n",
    "vtt = np.zeros((N,N))\n",
    "vt1 = np.zeros((N,N))\n",
    "vt2 = np.zeros((N,N))\n",
    "\n",
    "u_initial = np.zeros((N,N))\n",
    "v_initial = np.zeros((N,N))\n",
    "\n",
    "for i in range(mid-int(mid/8),mid+int(mid/8)+1):\n",
    "    for j in range(mid-int(mid/8),mid+int(mid/8)):\n",
    "        u_initial[i,j] = np.exp(-((i-mid)**2+(j-mid)**2)/200)\n",
    "\n",
    "u2 = u_initial\n",
    "\n",
    "for tt in range(Tsteps):\n",
    "    for i in range(horizon,N-horizon):\n",
    "        for j in range(horizon,N-horizon):\n",
    "            position_x = \n",
    "            position_y = \n",
    "            \n",
    "            #mind the minus\n"
   ]
  },
  {
   "cell_type": "code",
   "execution_count": 196,
   "metadata": {},
   "outputs": [
    {
     "data": {
      "text/plain": [
       "array([ 5.42467210e+12, -6.39662842e+02, -6.97661560e+02, -9.70572121e+13])"
      ]
     },
     "execution_count": 196,
     "metadata": {},
     "output_type": "execute_result"
    }
   ],
   "source": [
    "kernel0[0][0]"
   ]
  },
  {
   "cell_type": "code",
   "execution_count": 195,
   "metadata": {},
   "outputs": [
    {
     "data": {
      "text/plain": [
       "1.0"
      ]
     },
     "execution_count": 195,
     "metadata": {},
     "output_type": "execute_result"
    }
   ],
   "source": [
    "u2.max()"
   ]
  },
  {
   "cell_type": "code",
   "execution_count": 132,
   "metadata": {},
   "outputs": [
    {
     "data": {
      "text/plain": [
       "(4, 101, 101)"
      ]
     },
     "execution_count": 132,
     "metadata": {},
     "output_type": "execute_result"
    }
   ],
   "source": [
    "kernel_list[1][1].shape"
   ]
  },
  {
   "cell_type": "code",
   "execution_count": 186,
   "metadata": {},
   "outputs": [
    {
     "data": {
      "text/plain": [
       "0.012155178329914935"
      ]
     },
     "execution_count": 186,
     "metadata": {},
     "output_type": "execute_result"
    }
   ],
   "source": [
    "Z[mid-21,mid-21]"
   ]
  },
  {
   "cell_type": "code",
   "execution_count": 185,
   "metadata": {},
   "outputs": [
    {
     "data": {
      "text/plain": [
       "Text(0.5,0,'z')"
      ]
     },
     "execution_count": 185,
     "metadata": {},
     "output_type": "execute_result"
    },
    {
     "data": {
      "image/png": "[encoded data removed]",
      "text/plain": [
       "<Figure size 432x288 with 1 Axes>"
      ]
     },
     "metadata": {},
     "output_type": "display_data"
    }
   ],
   "source": [
    "x = np.linspace(-l*10,l*10,N)\n",
    "y = np.linspace(-l*10,l*10,N)\n",
    "X,Y = np.meshgrid(x,y)\n",
    "Z = u_initial\n",
    "fig = plt.figure()\n",
    "ax = plt.axes(projection='3d')\n",
    "ax.contour3D(X,Y,Z,100)\n",
    "ax.set_xlabel('x')\n",
    "ax.set_ylabel('y')\n",
    "ax.set_zlabel('z')"
   ]
  },
  {
   "cell_type": "code",
   "execution_count": 155,
   "metadata": {},
   "outputs": [
    {
     "data": {
      "image/png": "[encoded data removed]",
      "text/plain": [
       "<Figure size 432x288 with 1 Axes>"
      ]
     },
     "execution_count": 155,
     "metadata": {},
     "output_type": "execute_result"
    }
   ],
   "source": [
    "ax.view_init(90,0)\n",
    "fig"
   ]
  },
  {
   "cell_type": "code",
   "execution_count": 79,
   "metadata": {},
   "outputs": [
    {
     "data": {
      "text/plain": [
       "Text(0.5,0,'z')"
      ]
     },
     "execution_count": 79,
     "metadata": {},
     "output_type": "execute_result"
    },
    {
     "data": {
      "image/png": "[encoded data removed]",
      "text/plain": [
       "<Figure size 432x288 with 1 Axes>"
      ]
     },
     "metadata": {},
     "output_type": "display_data"
    }
   ],
   "source": [
    "x = np.linspace(-l*10,l*10,number_x)\n",
    "y = np.linspace(-l*10,l*10,number_x)\n",
    "X,Y = np.meshgrid(x,y)\n",
    "Z = -testttt[1,:,:]\n",
    "fig = plt.figure()\n",
    "ax = plt.axes(projection='3d')\n",
    "ax.contour3D(X,Y,Z,100)\n",
    "ax.set_xlabel('x')\n",
    "ax.set_ylabel('y')\n",
    "ax.set_zlabel('z')"
   ]
  },
  {
   "cell_type": "code",
   "execution_count": 81,
   "metadata": {},
   "outputs": [
    {
     "data": {
      "image/png": "[encoded data removed]",
      "text/plain": [
       "<Figure size 432x288 with 1 Axes>"
      ]
     },
     "execution_count": 81,
     "metadata": {},
     "output_type": "execute_result"
    }
   ],
   "source": [
    "ax.view_init(0,0)\n",
    "fig"
   ]
  },
  {
   "cell_type": "code",
   "execution_count": 8,
   "metadata": {},
   "outputs": [],
   "source": [
    "def myfunctoint_cal_testxx(kx,ky,x,y,this_x,this_y):\n",
    "    return myfunctoint_cal(kx,ky,x,y,this_x,this_y)[0,0]"
   ]
  },
  {
   "cell_type": "code",
   "execution_count": 9,
   "metadata": {},
   "outputs": [],
   "source": [
    "def myfunc_cal(x,y,this_x,this_y):\n",
    "    return integrate.nquad(myfunctoint_cal_testxx,\\\n",
    "                           [[-1/2/epsilon,1/2/epsilon],[-1/2/epsilon,1/2/epsilon]],args=(x,y,this_x,this_y),\\\n",
    "                           opts={'epsrel':1e-3})[0]"
   ]
  },
  {
   "cell_type": "code",
   "execution_count": 10,
   "metadata": {},
   "outputs": [
    {
     "data": {
      "text/plain": [
       "0.02"
      ]
     },
     "execution_count": 10,
     "metadata": {},
     "output_type": "execute_result"
    }
   ],
   "source": [
    "l"
   ]
  },
  {
   "cell_type": "code",
   "execution_count": 7,
   "metadata": {},
   "outputs": [
    {
     "name": "stdout",
     "output_type": "stream",
     "text": [
      "0\n",
      "1\n",
      "2\n",
      "3\n",
      "4\n",
      "5\n",
      "6\n",
      "7\n",
      "8\n",
      "9\n",
      "10\n",
      "11\n",
      "12\n",
      "13\n",
      "14\n",
      "15\n",
      "16\n",
      "17\n",
      "18\n",
      "19\n",
      "20\n",
      "21\n",
      "22\n",
      "23\n",
      "24\n",
      "25\n",
      "26\n",
      "27\n",
      "28\n",
      "29\n",
      "30\n",
      "31\n",
      "32\n",
      "33\n",
      "34\n",
      "35\n",
      "36\n",
      "37\n",
      "38\n",
      "39\n",
      "40\n",
      "41\n",
      "42\n",
      "43\n",
      "44\n",
      "45\n",
      "46\n",
      "47\n",
      "48\n",
      "49\n",
      "50\n",
      "51\n",
      "52\n",
      "53\n",
      "54\n",
      "55\n",
      "56\n",
      "57\n",
      "58\n",
      "59\n",
      "60\n",
      "61\n",
      "62\n",
      "63\n",
      "64\n",
      "65\n",
      "66\n",
      "67\n",
      "68\n",
      "69\n",
      "70\n",
      "71\n",
      "72\n",
      "73\n",
      "74\n",
      "75\n",
      "76\n",
      "77\n",
      "78\n",
      "79\n",
      "80\n",
      "81\n",
      "82\n",
      "83\n",
      "84\n",
      "85\n",
      "86\n",
      "87\n",
      "88\n",
      "89\n",
      "90\n",
      "91\n",
      "92\n",
      "93\n",
      "94\n",
      "95\n",
      "96\n",
      "97\n",
      "98\n",
      "99\n",
      "100\n"
     ]
    }
   ],
   "source": [
    "# calculating discrete result for eigenfunction and eigenvalue\n",
    "\n",
    "number_k = 101\n",
    "kx = np.linspace(-1/2/epsilon,1/2/epsilon,number_k)\n",
    "ky = np.linspace(-1/2/epsilon,1/2/epsilon,number_k)\n",
    "\n",
    "lambda_dis = np.zeros((number_k,number_k))\n",
    "\n",
    "number_x = 101\n",
    "\n",
    "x = np.linspace(-l*10,l*10,number_x)\n",
    "y = np.linspace(-l*10,l*10,number_x)\n",
    "\n",
    "phi_x = np.zeros((number_k,number_k,number_x,number_x),dtype=complex)\n",
    "phi_y = np.zeros((number_k,number_k,number_x,number_x),dtype=complex)\n",
    "\n",
    "for i in range(number_k):\n",
    "    print(i)\n",
    "    for j in range(number_k):\n",
    "        #print(i,j)\n",
    "        n= 10\n",
    "        NN = (2*n+1)*(2*n+1)\n",
    "\n",
    "        eigen = np.linalg.eig(A_operator(kx[i],ky[j],n))\n",
    "        coeff = eigen[1][:,np.argmin(eigen[0])]\n",
    "        coeff_x = coeff[:NN]\n",
    "        coeff_y = coeff[NN:]\n",
    "        lambda_dis[i,j] = np.min(eigen[0])\n",
    "\n",
    "        for p in range(number_x):\n",
    "            for q in range(number_x):\n",
    "                phi_x[i,j,p,q] = Eigenfunc(x[p],y[q],coeff_x,n)\n",
    "                phi_y[i,j,p,q] = Eigenfunc(x[p],y[q],coeff_y,n)"
   ]
  },
  {
   "cell_type": "code",
   "execution_count": 8,
   "metadata": {},
   "outputs": [
    {
     "data": {
      "text/plain": [
       "(101, 101, 101, 101)"
      ]
     },
     "execution_count": 8,
     "metadata": {},
     "output_type": "execute_result"
    }
   ],
   "source": [
    "phi_x.shape"
   ]
  },
  {
   "cell_type": "code",
   "execution_count": 9,
   "metadata": {},
   "outputs": [],
   "source": [
    "np.save('./Documents/CFR/phi_x_2D',phi_x)"
   ]
  },
  {
   "cell_type": "code",
   "execution_count": 10,
   "metadata": {},
   "outputs": [],
   "source": [
    "np.save('./Documents/CFR/phi_y_2D',phi_y)"
   ]
  },
  {
   "cell_type": "code",
   "execution_count": 11,
   "metadata": {},
   "outputs": [],
   "source": [
    "np.save('./Documents/CFR/lambda_dis_2D',lambda_dis)"
   ]
  },
  {
   "cell_type": "code",
   "execution_count": null,
   "metadata": {},
   "outputs": [],
   "source": []
  },
  {
   "cell_type": "code",
   "execution_count": 111,
   "metadata": {},
   "outputs": [],
   "source": [
    "def myfunc_cal_direct(x,y,this_x,this_y):\n",
    "    number = 30\n",
    "    kx = np.linspace(-1/2/epsilon,1/2/epsilon,number)\n",
    "    ky = np.linspace(-1/2/epsilon,1/2/epsilon,number)\n",
    "    dxdy = 1/epsilon/epsilon/number/number\n",
    "\n",
    "    X,Y = np.meshgrid(kx,ky)\n",
    "\n",
    "    Z = np.vectorize(myfunctoint_cal_testxx)(X,Y,x,y,this_x,this_y)\n",
    "    return np.sum(Z)*dxdy"
   ]
  },
  {
   "cell_type": "code",
   "execution_count": 112,
   "metadata": {},
   "outputs": [
    {
     "name": "stdout",
     "output_type": "stream",
     "text": [
      "0\n",
      "1\n",
      "2\n",
      "3\n",
      "4\n",
      "5\n",
      "6\n",
      "7\n",
      "8\n",
      "9\n",
      "10\n",
      "11\n",
      "12\n",
      "13\n",
      "14\n",
      "15\n",
      "16\n",
      "17\n",
      "18\n",
      "19\n",
      "20\n",
      "21\n",
      "22\n",
      "23\n",
      "24\n",
      "25\n",
      "26\n",
      "27\n",
      "28\n",
      "29\n",
      "30\n",
      "31\n",
      "32\n",
      "33\n",
      "34\n",
      "35\n",
      "36\n",
      "37\n",
      "38\n",
      "39\n",
      "40\n",
      "41\n",
      "42\n",
      "43\n",
      "44\n",
      "45\n",
      "46\n",
      "47\n",
      "48\n",
      "49\n",
      "50\n",
      "51\n",
      "52\n",
      "53\n",
      "54\n",
      "55\n",
      "56\n",
      "57\n",
      "58\n",
      "59\n",
      "60\n",
      "61\n",
      "62\n",
      "63\n",
      "64\n",
      "65\n",
      "66\n",
      "67\n",
      "68\n",
      "69\n",
      "70\n",
      "71\n",
      "72\n",
      "73\n",
      "74\n",
      "75\n",
      "76\n",
      "77\n",
      "78\n",
      "79\n",
      "80\n",
      "81\n",
      "82\n",
      "83\n",
      "84\n",
      "85\n",
      "86\n",
      "87\n",
      "88\n",
      "89\n",
      "90\n",
      "91\n",
      "92\n",
      "93\n",
      "94\n",
      "95\n",
      "96\n",
      "97\n",
      "98\n",
      "99\n"
     ]
    }
   ],
   "source": [
    "number = 100\n",
    "kernel_test = np.zeros((100,100))\n",
    "xx = np.linspace(-0.2,0.2,num = number)\n",
    "yy = np.linspace(-0.2,0.2,num = number)\n",
    "for i in range(number):\n",
    "    print(i)\n",
    "    for j in range(number):\n",
    "        #print(i,j)\n",
    "        kernel_test[i,j] = myfunc_cal_direct(xx[i],yy[j],0,0)"
   ]
  },
  {
   "cell_type": "code",
   "execution_count": 16,
   "metadata": {},
   "outputs": [],
   "source": [
    "from mpl_toolkits import mplot3d"
   ]
  },
  {
   "cell_type": "code",
   "execution_count": 50,
   "metadata": {},
   "outputs": [],
   "source": [
    "def f(x,y):\n",
    "    return np.sin(np.sqrt(x**2+y**2))"
   ]
  },
  {
   "cell_type": "code",
   "execution_count": 51,
   "metadata": {},
   "outputs": [],
   "source": [
    "x = np.linspace(-6,6,30)\n",
    "y = np.linspace(-6,6,30)\n",
    "\n",
    "X,Y = np.meshgrid(x,y)\n",
    "Z = f(X,Y)"
   ]
  }
 ],
 "metadata": {
  "kernelspec": {
   "display_name": "Python 3",
   "language": "python",
   "name": "python3"
  },
  "language_info": {
   "codemirror_mode": {
    "name": "ipython",
    "version": 3
   },
   "file_extension": ".py",
   "mimetype": "text/x-python",
   "name": "python",
   "nbconvert_exporter": "python",
   "pygments_lexer": "ipython3",
   "version": "3.6.5"
  }
 },
 "nbformat": 4,
 "nbformat_minor": 2
}
