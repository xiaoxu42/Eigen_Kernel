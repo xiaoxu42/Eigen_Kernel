{
 "cells": [
  {
   "cell_type": "code",
   "execution_count": 1,
   "metadata": {},
   "outputs": [],
   "source": [
    "import numpy as np\n",
    "import math\n",
    "import scipy.integrate as integrate\n",
    "import matplotlib.pyplot as plt\n",
    "%matplotlib inline"
   ]
  },
  {
   "cell_type": "code",
   "execution_count": 2,
   "metadata": {},
   "outputs": [],
   "source": [
    "l = 0.02\n",
    "epsilon = l/2/math.pi"
   ]
  },
  {
   "cell_type": "code",
   "execution_count": 15,
   "metadata": {},
   "outputs": [],
   "source": [
    "kk = np.arange(-5,5)"
   ]
  },
  {
   "cell_type": "code",
   "execution_count": 17,
   "metadata": {},
   "outputs": [
    {
     "data": {
      "text/plain": [
       "array([-5, -4, -3, -2, -1])"
      ]
     },
     "execution_count": 17,
     "metadata": {},
     "output_type": "execute_result"
    }
   ],
   "source": [
    "kk[:5]"
   ]
  },
  {
   "cell_type": "code",
   "execution_count": 18,
   "metadata": {},
   "outputs": [
    {
     "data": {
      "text/plain": [
       "array([0, 1, 2, 3, 4])"
      ]
     },
     "execution_count": 18,
     "metadata": {},
     "output_type": "execute_result"
    }
   ],
   "source": [
    "kk[5:]"
   ]
  },
  {
   "cell_type": "code",
   "execution_count": 22,
   "metadata": {},
   "outputs": [],
   "source": [
    "def A_operator(kx,ky,n):\n",
    "    \n",
    "    #n = 40\n",
    "    a = 1.5\n",
    "    b = 1.4\n",
    "    c = 1\n",
    "    d = 0.6\n",
    "    NN = (2*n+1)*(2*n+1)\n",
    "    A = np.zeros((2*NN, 2*NN))\n",
    "    epsilon = l/2/math.pi\n",
    "    \n",
    "    for j in range(-n,n+1):\n",
    "        for i in range(-n,n+1):\n",
    "            index = (j+n)*(2*n+1)+i+n\n",
    "            sigmaxxx = np.zeros((1,2*NN))\n",
    "            sigmaxyy = np.zeros((1,2*NN))\n",
    "            sigmayxx = np.zeros((1,2*NN))\n",
    "            sigmayyy = np.zeros((1,2*NN))\n",
    "        \n",
    "            sigmaxxx[0,index] = (a+2*c)*(i/epsilon + kx)*(i/epsilon + kx)\n",
    "            sigmaxxx[0,index+NN] =a*(j/epsilon + ky)*(i/epsilon + kx)\n",
    "            sigmaxyy[0,index] = c*(j/epsilon + ky)*(j/epsilon + ky)\n",
    "            sigmaxyy[0,index+NN] = c*(i/epsilon + kx)*(j/epsilon + ky)\n",
    "            sigmayxx[0,index] = c*(j/epsilon + ky)*(i/epsilon + kx)\n",
    "            sigmayxx[0,index+NN] = c*(i/epsilon + kx)*(i/epsilon + kx)\n",
    "            sigmayyy[0,index] = a*(i/epsilon + kx)*(j/epsilon + ky)\n",
    "            sigmayyy[0,index+NN] = (a+2*c)*(j/epsilon + ky)*(j/epsilon + ky)\n",
    "            \n",
    "            \n",
    "            \n",
    "            if i!=-n:\n",
    "                sigmaxxx[0,index-1] = b/2*(i/epsilon + kx)*(i/epsilon - 1/epsilon + kx)\n",
    "                sigmayyy[0,index-1] = b/2*(i/epsilon + kx)*(j/epsilon + ky)\n",
    "                sigmaxxx[0,index+NN-1] =b/2*(j/epsilon + ky)*(i/epsilon - 1/epsilon + kx)\n",
    "                sigmayyy[0,index+NN-1] = b/2*(j/epsilon + ky)*(j/epsilon + ky)\n",
    "\n",
    "\n",
    "\n",
    "            if i!=n:\n",
    "                sigmaxxx[0,index+1] = b/2*(i/epsilon + kx)*(i/epsilon + 1/epsilon + kx)\n",
    "                sigmayyy[0,index+1] = b/2*(i/epsilon + kx)*(j/epsilon + ky)\n",
    "                sigmaxxx[0,index+NN+1] =b/2*(j/epsilon + ky)*(i/epsilon + 1/epsilon + kx)\n",
    "                sigmayyy[0,index+NN+1] = b/2*(j/epsilon + ky)*(j/epsilon + ky)\n",
    "\n",
    "            if j!=-n:\n",
    "                sigmaxxx[0,index-2*n-1] = d*(i/epsilon + kx)*(i/epsilon + kx)\n",
    "                sigmaxyy[0,index-2*n-1] = d/2*(j/epsilon + ky)*(j/epsilon -1/epsilon + ky)\n",
    "                sigmaxyy[0,index+NN-2*n-1] = d/2*(i/epsilon + kx)*(j/epsilon - 1/epsilon + ky)\n",
    "                sigmayxx[0,index-2*n-1] = d/2*(j/epsilon + ky)*(i/epsilon + kx)\n",
    "                sigmayxx[0,index+NN-2*n-1] = d/2*(i/epsilon + kx)*(i/epsilon + kx)\n",
    "                sigmayyy[0,index+NN-2*n-1] = d*(j/epsilon + ky)*(j/epsilon - 1/epsilon + ky)\n",
    "\n",
    "\n",
    "\n",
    "            if j!=n:\n",
    "                sigmaxxx[0,index+2*n+1] = d*(i/epsilon + kx)*(i/epsilon + kx)\n",
    "                sigmaxyy[0,index+2*n+1] = d/2*(j/epsilon + ky)*(j/epsilon + 1/epsilon + ky)\n",
    "                sigmaxyy[0,index+NN+2*n+1] = d/2*(i/epsilon + kx)*(j/epsilon + 1/epsilon + ky)\n",
    "                sigmayxx[0,index+2*n+1] = d/2*(j/epsilon + ky)*(i/epsilon + kx)\n",
    "                sigmayxx[0,index+NN+2*n+1] = d/2*(i/epsilon + kx)*(i/epsilon + kx)\n",
    "                sigmayyy[0,index+NN+2*n+1] = d*(j/epsilon + ky)*(j/epsilon + 1/epsilon + ky)\n",
    "            \n",
    "            A[index,:] = sigmaxxx + sigmaxyy\n",
    "            A[index+NN,:] = sigmayxx + sigmayyy\n",
    "        \n",
    "    \n",
    "    return A"
   ]
  },
  {
   "cell_type": "code",
   "execution_count": 25,
   "metadata": {},
   "outputs": [
    {
     "data": {
      "text/plain": [
       "array([2.07956279e+07, 2.08012130e+07, 2.08012974e+07, 2.08068825e+07,\n",
       "       1.60533233e+07, 1.60630400e+07, 1.60583624e+07, 1.60579988e+07,\n",
       "       1.52675042e+07, 1.52788517e+07, 1.52739605e+07, 1.52723860e+07,\n",
       "       1.26567636e+07, 1.26695514e+07, 1.30283480e+07, 1.30137139e+07,\n",
       "       1.29651251e+07, 1.29088073e+07, 1.28981284e+07, 1.28448777e+07,\n",
       "       1.13742663e+07, 1.14096515e+07, 1.15281739e+07, 1.15008243e+07,\n",
       "       1.09108041e+07, 1.08404096e+07, 1.08299528e+07, 1.07531535e+07,\n",
       "       1.05831653e+07, 1.06015475e+07, 1.02823961e+07, 1.02872695e+07,\n",
       "       9.51783670e+06, 9.52247061e+06, 9.15954922e+06, 9.16469406e+06,\n",
       "       8.78147466e+06, 8.77258510e+06, 8.74879921e+06, 8.75621970e+06,\n",
       "       8.30363077e+06, 8.30772798e+06, 7.97469341e+06, 7.93820046e+06,\n",
       "       7.91679948e+06, 7.88894452e+06, 7.81727194e+06, 7.82975421e+06,\n",
       "       7.14504043e+06, 7.14009440e+06, 7.11885828e+06, 7.12251155e+06,\n",
       "       7.03997278e+06, 7.04365658e+06, 6.75247636e+06, 6.68423749e+06,\n",
       "       6.61951273e+06, 6.52250343e+06, 6.55727501e+06, 6.56068823e+06,\n",
       "       5.31128846e+06, 5.36175720e+06, 5.40877433e+06, 5.51571279e+06,\n",
       "       5.65819689e+06, 5.86396405e+06, 5.83599037e+06, 6.00983128e+06,\n",
       "       6.05574974e+06, 6.05727563e+06, 6.05749626e+06, 6.05902239e+06,\n",
       "       4.88927945e+06, 4.87474949e+06, 4.75198672e+06, 4.77335786e+06,\n",
       "       4.82755021e+06, 4.83343596e+06, 4.83139229e+06, 4.82907704e+06,\n",
       "       4.57571241e+06, 4.49735934e+06, 4.44405448e+06, 4.33202215e+06,\n",
       "       4.40723450e+06, 4.40955879e+06, 4.36901900e+06, 4.37067125e+06,\n",
       "       4.08997188e+06, 3.45593406e+06, 3.94869770e+06, 3.70490912e+06,\n",
       "       3.70670386e+06, 3.75710883e+06, 3.76224264e+06, 3.78015064e+06,\n",
       "       3.91630295e+06, 3.89384290e+06, 3.89703321e+06, 3.90180447e+06,\n",
       "       3.89878840e+06, 3.90002733e+06, 3.90071141e+06, 3.80746113e+04,\n",
       "       3.38864161e+04, 2.35193428e-01, 3.02196106e-02, 8.30110826e+04,\n",
       "       9.67230287e+04, 1.30220586e+05, 1.46228430e+05, 1.84004396e+05,\n",
       "       1.92353758e+05, 3.38475449e+06, 3.36394383e+06, 3.34109012e+06,\n",
       "       3.34243376e+06, 3.32557280e+06, 3.26086474e+06, 3.26269211e+06,\n",
       "       3.23792436e+06, 3.24139203e+06, 3.25472835e+06, 3.25211269e+06,\n",
       "       3.24486543e+06, 3.24895345e+06, 2.46304014e+05, 2.56826831e+05,\n",
       "       2.97430315e+06, 2.80940395e+05, 2.69715240e+05, 2.65977778e+05,\n",
       "       2.92830627e+06, 2.92069490e+06, 2.91573196e+06, 2.91722898e+06,\n",
       "       2.86083824e+06, 2.83635266e+06, 2.84899967e+06, 2.84598709e+06,\n",
       "       2.84449539e+06, 2.70136703e+06, 2.69987077e+06, 3.10987733e+05,\n",
       "       4.28333242e+05, 4.54383052e+05, 3.33627179e+05, 3.38414447e+05,\n",
       "       3.58108891e+05, 3.89548459e+05, 3.76080307e+05, 3.75553579e+05,\n",
       "       2.54682633e+06, 2.52812225e+06, 2.52966976e+06, 4.71884917e+05,\n",
       "       4.76671210e+05, 4.99273880e+05, 5.13450531e+05, 2.45156608e+06,\n",
       "       2.45347458e+06, 2.35252809e+06, 2.35389821e+06, 6.22714450e+05,\n",
       "       6.25816761e+05, 6.26674108e+05, 6.30621462e+05, 2.01912532e+06,\n",
       "       2.01683430e+06, 2.15109834e+06, 2.10085799e+06, 2.11486685e+06,\n",
       "       2.13376271e+06, 2.38356525e+06, 2.38573180e+06, 2.36778449e+06,\n",
       "       2.42303623e+06, 2.42457128e+06, 2.41114737e+06, 2.40939881e+06,\n",
       "       1.93371741e+06, 1.93453233e+06, 9.00069796e+05, 8.92223312e+05,\n",
       "       8.72902185e+05, 8.76802692e+05, 7.16045205e+05, 6.75301934e+05,\n",
       "       7.03839208e+05, 7.01422788e+05, 6.92117046e+05, 6.83678139e+05,\n",
       "       1.77618602e+06, 1.78491073e+06, 1.86489712e+06, 1.86371560e+06,\n",
       "       1.84268199e+06, 1.19451061e+06, 1.19511975e+06, 1.28061271e+06,\n",
       "       1.28157570e+06, 6.86905615e+05, 1.85144951e+06, 1.85260617e+06,\n",
       "       1.69708670e+06, 1.69557728e+06, 6.85975553e+05, 8.00156027e+05,\n",
       "       8.01379596e+05, 1.02254836e+06, 1.03153564e+06, 1.14992027e+06,\n",
       "       1.14157460e+06, 1.09537103e+06, 1.47299855e+06, 1.46349977e+06,\n",
       "       1.54330693e+06, 1.54638301e+06, 1.39077286e+06, 1.37025917e+06,\n",
       "       1.06040222e+06, 8.01028430e+05, 1.37328395e+06, 1.64468075e+06,\n",
       "       8.00706529e+05, 1.63112802e+06, 1.50583314e+06, 1.50484915e+06,\n",
       "       1.62027118e+06, 1.57980096e+06, 1.57866489e+06, 1.61542228e+06,\n",
       "       1.38158770e+06, 1.38061939e+06, 1.05868369e+06, 1.06761147e+06,\n",
       "       1.06822380e+06, 1.11666853e+06, 1.11916470e+06, 1.11816903e+06,\n",
       "       1.66941725e+06, 1.61718884e+06])"
      ]
     },
     "execution_count": 25,
     "metadata": {},
     "output_type": "execute_result"
    }
   ],
   "source": [
    "eigen = np.linalg.eig(A_operator(0.2,0.2,5))\n",
    "eigen[0]"
   ]
  },
  {
   "cell_type": "code",
   "execution_count": 24,
   "metadata": {},
   "outputs": [
    {
     "data": {
      "text/plain": [
       "-1.0190857113310923"
      ]
     },
     "execution_count": 24,
     "metadata": {},
     "output_type": "execute_result"
    }
   ],
   "source": [
    "eigen = np.linalg.eig(A_operator(0.2,1.2,5))\n",
    "np.min(eigen[0])"
   ]
  },
  {
   "cell_type": "code",
   "execution_count": 12,
   "metadata": {},
   "outputs": [],
   "source": [
    "def Eigenfunc(x,y,coeff,n):\n",
    "    \n",
    "    this_m = np.arange(-n,n+1)\n",
    "    this_n = np.arange(-n,n+1)\n",
    "    \n",
    "    exp_mx = np.exp(1j*this_m*x/epsilon)\n",
    "    exp_ny = np.exp(1j*this_n*y/epsilon)\n",
    "    \n",
    "    exp_xy_mat = np.outer(exp_ny,exp_mx)\n",
    "    exp_xy_vec = exp_xy_mat.flatten()\n",
    "    \n",
    "    return np.dot(exp_xy_vec,coeff)"
   ]
  },
  {
   "cell_type": "code",
   "execution_count": 33,
   "metadata": {},
   "outputs": [],
   "source": [
    "def myfunctoint_cal(kx,ky,x,y,this_x,this_y):\n",
    "    n= 5\n",
    "    NN = (2*n+1)*(2*n+1)\n",
    "    #this_x = l/8\n",
    "    eigen = np.linalg.eig(A_operator(kx,ky,n))\n",
    "    coeff = eigen[1][:,np.argmin(eigen[0])]\n",
    "    coeff_x = coeff[:NN]\n",
    "    coeff_y = coeff[NN:]\n",
    "    lamda_cal = np.min(eigen[0])\n",
    "    \n",
    "    fi_x = Eigenfunc(this_x,this_y,coeff_x,n)\n",
    "    fi_y = Eigenfunc(this_x,this_y,coeff_y,n)\n",
    "    \n",
    "    fi_xp = Eigenfunc(this_x+x,this_y+y,coeff_x,n)\n",
    "    fi_yp = Eigenfunc(this_x+x,this_y+y,coeff_y,n)\n",
    "    \n",
    "    kernel_toint = np.zeros((2, 2),dtype=complex)\n",
    "    \n",
    "    kernel_toint[0,0] = fi_x*np.conj(fi_xp)\n",
    "    kernel_toint[0,1] = fi_x*np.conj(fi_yp)\n",
    "    kernel_toint[1,0] = fi_y*np.conj(fi_xp)\n",
    "    kernel_toint[1,1] = fi_y*np.conj(fi_yp)\n",
    "    \n",
    "\n",
    "    return (np.exp(-1j*x*kx-1j*y*ky)*kernel_toint).real*lamda_cal/l\n",
    "    #return (np.exp(-1j*x*kx-1j*y*ky)*fi_x*np.conj(fi_xp)).real*lamda_cal/l"
   ]
  },
  {
   "cell_type": "code",
   "execution_count": 38,
   "metadata": {},
   "outputs": [],
   "source": [
    "def myfunctoint_cal_testxx(kx,ky,x,y,this_x,this_y):\n",
    "    return myfunctoint_cal(kx,ky,x,y,this_x,this_y)[0,0]"
   ]
  },
  {
   "cell_type": "code",
   "execution_count": 41,
   "metadata": {},
   "outputs": [],
   "source": [
    "def myfunc_cal(x,y,this_x,this_y):\n",
    "    return integrate.nquad(myfunctoint_cal_testxx,[[-1/2/epsilon,1/2/epsilon],[-1/2/epsilon,1/2/epsilon]],args=(x,y,this_x,this_y))[0]"
   ]
  },
  {
   "cell_type": "code",
   "execution_count": 42,
   "metadata": {},
   "outputs": [
    {
     "name": "stdout",
     "output_type": "stream",
     "text": [
      "0\n"
     ]
    },
    {
     "ename": "KeyboardInterrupt",
     "evalue": "",
     "output_type": "error",
     "traceback": [
      "\u001b[0;31m---------------------------------------------------------------------------\u001b[0m",
      "\u001b[0;31mKeyboardInterrupt\u001b[0m                         Traceback (most recent call last)",
      "\u001b[0;32m<ipython-input-42-605b0cbf7801>\u001b[0m in \u001b[0;36m<module>\u001b[0;34m()\u001b[0m\n\u001b[1;32m      6\u001b[0m     \u001b[0mprint\u001b[0m\u001b[0;34m(\u001b[0m\u001b[0mi\u001b[0m\u001b[0;34m)\u001b[0m\u001b[0;34m\u001b[0m\u001b[0m\n\u001b[1;32m      7\u001b[0m     \u001b[0;32mfor\u001b[0m \u001b[0mj\u001b[0m \u001b[0;32min\u001b[0m \u001b[0mrange\u001b[0m\u001b[0;34m(\u001b[0m\u001b[0mnumber\u001b[0m\u001b[0;34m)\u001b[0m\u001b[0;34m:\u001b[0m\u001b[0;34m\u001b[0m\u001b[0m\n\u001b[0;32m----> 8\u001b[0;31m         \u001b[0mkernel\u001b[0m\u001b[0;34m[\u001b[0m\u001b[0mi\u001b[0m\u001b[0;34m,\u001b[0m\u001b[0mj\u001b[0m\u001b[0;34m]\u001b[0m \u001b[0;34m=\u001b[0m \u001b[0mmyfunc_cal\u001b[0m\u001b[0;34m(\u001b[0m\u001b[0mxx\u001b[0m\u001b[0;34m[\u001b[0m\u001b[0mi\u001b[0m\u001b[0;34m]\u001b[0m\u001b[0;34m,\u001b[0m\u001b[0myy\u001b[0m\u001b[0;34m[\u001b[0m\u001b[0mj\u001b[0m\u001b[0;34m]\u001b[0m\u001b[0;34m,\u001b[0m\u001b[0;36m0\u001b[0m\u001b[0;34m,\u001b[0m\u001b[0;36m0\u001b[0m\u001b[0;34m)\u001b[0m\u001b[0;34m\u001b[0m\u001b[0m\n\u001b[0m",
      "\u001b[0;32m<ipython-input-41-05a23556bb90>\u001b[0m in \u001b[0;36mmyfunc_cal\u001b[0;34m(x, y, this_x, this_y)\u001b[0m\n\u001b[1;32m      1\u001b[0m \u001b[0;32mdef\u001b[0m \u001b[0mmyfunc_cal\u001b[0m\u001b[0;34m(\u001b[0m\u001b[0mx\u001b[0m\u001b[0;34m,\u001b[0m\u001b[0my\u001b[0m\u001b[0;34m,\u001b[0m\u001b[0mthis_x\u001b[0m\u001b[0;34m,\u001b[0m\u001b[0mthis_y\u001b[0m\u001b[0;34m)\u001b[0m\u001b[0;34m:\u001b[0m\u001b[0;34m\u001b[0m\u001b[0m\n\u001b[0;32m----> 2\u001b[0;31m     \u001b[0;32mreturn\u001b[0m \u001b[0mintegrate\u001b[0m\u001b[0;34m.\u001b[0m\u001b[0mnquad\u001b[0m\u001b[0;34m(\u001b[0m\u001b[0mmyfunctoint_cal_testxx\u001b[0m\u001b[0;34m,\u001b[0m\u001b[0;34m[\u001b[0m\u001b[0;34m[\u001b[0m\u001b[0;34m-\u001b[0m\u001b[0;36m1\u001b[0m\u001b[0;34m/\u001b[0m\u001b[0;36m2\u001b[0m\u001b[0;34m/\u001b[0m\u001b[0mepsilon\u001b[0m\u001b[0;34m,\u001b[0m\u001b[0;36m1\u001b[0m\u001b[0;34m/\u001b[0m\u001b[0;36m2\u001b[0m\u001b[0;34m/\u001b[0m\u001b[0mepsilon\u001b[0m\u001b[0;34m]\u001b[0m\u001b[0;34m,\u001b[0m\u001b[0;34m[\u001b[0m\u001b[0;34m-\u001b[0m\u001b[0;36m1\u001b[0m\u001b[0;34m/\u001b[0m\u001b[0;36m2\u001b[0m\u001b[0;34m/\u001b[0m\u001b[0mepsilon\u001b[0m\u001b[0;34m,\u001b[0m\u001b[0;36m1\u001b[0m\u001b[0;34m/\u001b[0m\u001b[0;36m2\u001b[0m\u001b[0;34m/\u001b[0m\u001b[0mepsilon\u001b[0m\u001b[0;34m]\u001b[0m\u001b[0;34m]\u001b[0m\u001b[0;34m,\u001b[0m\u001b[0margs\u001b[0m\u001b[0;34m=\u001b[0m\u001b[0;34m(\u001b[0m\u001b[0mx\u001b[0m\u001b[0;34m,\u001b[0m\u001b[0my\u001b[0m\u001b[0;34m,\u001b[0m\u001b[0mthis_x\u001b[0m\u001b[0;34m,\u001b[0m\u001b[0mthis_y\u001b[0m\u001b[0;34m)\u001b[0m\u001b[0;34m)\u001b[0m\u001b[0;34m[\u001b[0m\u001b[0;36m0\u001b[0m\u001b[0;34m]\u001b[0m\u001b[0;34m\u001b[0m\u001b[0m\n\u001b[0m",
      "\u001b[0;32m~/anaconda3/lib/python3.6/site-packages/scipy/integrate/quadpack.py\u001b[0m in \u001b[0;36mnquad\u001b[0;34m(func, ranges, args, opts, full_output)\u001b[0m\n\u001b[1;32m    803\u001b[0m     \u001b[0;32melse\u001b[0m\u001b[0;34m:\u001b[0m\u001b[0;34m\u001b[0m\u001b[0m\n\u001b[1;32m    804\u001b[0m         \u001b[0mopts\u001b[0m \u001b[0;34m=\u001b[0m \u001b[0;34m[\u001b[0m\u001b[0mopt\u001b[0m \u001b[0;32mif\u001b[0m \u001b[0mcallable\u001b[0m\u001b[0;34m(\u001b[0m\u001b[0mopt\u001b[0m\u001b[0;34m)\u001b[0m \u001b[0;32melse\u001b[0m \u001b[0m_OptFunc\u001b[0m\u001b[0;34m(\u001b[0m\u001b[0mopt\u001b[0m\u001b[0;34m)\u001b[0m \u001b[0;32mfor\u001b[0m \u001b[0mopt\u001b[0m \u001b[0;32min\u001b[0m \u001b[0mopts\u001b[0m\u001b[0;34m]\u001b[0m\u001b[0;34m\u001b[0m\u001b[0m\n\u001b[0;32m--> 805\u001b[0;31m     \u001b[0;32mreturn\u001b[0m \u001b[0m_NQuad\u001b[0m\u001b[0;34m(\u001b[0m\u001b[0mfunc\u001b[0m\u001b[0;34m,\u001b[0m \u001b[0mranges\u001b[0m\u001b[0;34m,\u001b[0m \u001b[0mopts\u001b[0m\u001b[0;34m,\u001b[0m \u001b[0mfull_output\u001b[0m\u001b[0;34m)\u001b[0m\u001b[0;34m.\u001b[0m\u001b[0mintegrate\u001b[0m\u001b[0;34m(\u001b[0m\u001b[0;34m*\u001b[0m\u001b[0margs\u001b[0m\u001b[0;34m)\u001b[0m\u001b[0;34m\u001b[0m\u001b[0m\n\u001b[0m\u001b[1;32m    806\u001b[0m \u001b[0;34m\u001b[0m\u001b[0m\n\u001b[1;32m    807\u001b[0m \u001b[0;34m\u001b[0m\u001b[0m\n",
      "\u001b[0;32m~/anaconda3/lib/python3.6/site-packages/scipy/integrate/quadpack.py\u001b[0m in \u001b[0;36mintegrate\u001b[0;34m(self, *args, **kwargs)\u001b[0m\n\u001b[1;32m    858\u001b[0m             \u001b[0mf\u001b[0m \u001b[0;34m=\u001b[0m \u001b[0mpartial\u001b[0m\u001b[0;34m(\u001b[0m\u001b[0mself\u001b[0m\u001b[0;34m.\u001b[0m\u001b[0mintegrate\u001b[0m\u001b[0;34m,\u001b[0m \u001b[0mdepth\u001b[0m\u001b[0;34m=\u001b[0m\u001b[0mdepth\u001b[0m\u001b[0;34m+\u001b[0m\u001b[0;36m1\u001b[0m\u001b[0;34m)\u001b[0m\u001b[0;34m\u001b[0m\u001b[0m\n\u001b[1;32m    859\u001b[0m         quad_r = quad(f, low, high, args=args, full_output=self.full_output,\n\u001b[0;32m--> 860\u001b[0;31m                       **opt)\n\u001b[0m\u001b[1;32m    861\u001b[0m         \u001b[0mvalue\u001b[0m \u001b[0;34m=\u001b[0m \u001b[0mquad_r\u001b[0m\u001b[0;34m[\u001b[0m\u001b[0;36m0\u001b[0m\u001b[0;34m]\u001b[0m\u001b[0;34m\u001b[0m\u001b[0m\n\u001b[1;32m    862\u001b[0m         \u001b[0mabserr\u001b[0m \u001b[0;34m=\u001b[0m \u001b[0mquad_r\u001b[0m\u001b[0;34m[\u001b[0m\u001b[0;36m1\u001b[0m\u001b[0;34m]\u001b[0m\u001b[0;34m\u001b[0m\u001b[0m\n",
      "\u001b[0;32m~/anaconda3/lib/python3.6/site-packages/scipy/integrate/quadpack.py\u001b[0m in \u001b[0;36mquad\u001b[0;34m(func, a, b, args, full_output, epsabs, epsrel, limit, points, weight, wvar, wopts, maxp1, limlst)\u001b[0m\n\u001b[1;32m    339\u001b[0m     \u001b[0;32mif\u001b[0m \u001b[0mweight\u001b[0m \u001b[0;32mis\u001b[0m \u001b[0;32mNone\u001b[0m\u001b[0;34m:\u001b[0m\u001b[0;34m\u001b[0m\u001b[0m\n\u001b[1;32m    340\u001b[0m         retval = _quad(func, a, b, args, full_output, epsabs, epsrel, limit,\n\u001b[0;32m--> 341\u001b[0;31m                        points)\n\u001b[0m\u001b[1;32m    342\u001b[0m     \u001b[0;32melse\u001b[0m\u001b[0;34m:\u001b[0m\u001b[0;34m\u001b[0m\u001b[0m\n\u001b[1;32m    343\u001b[0m         retval = _quad_weight(func, a, b, args, full_output, epsabs, epsrel,\n",
      "\u001b[0;32m~/anaconda3/lib/python3.6/site-packages/scipy/integrate/quadpack.py\u001b[0m in \u001b[0;36m_quad\u001b[0;34m(func, a, b, args, full_output, epsabs, epsrel, limit, points)\u001b[0m\n\u001b[1;32m    446\u001b[0m     \u001b[0;32mif\u001b[0m \u001b[0mpoints\u001b[0m \u001b[0;32mis\u001b[0m \u001b[0;32mNone\u001b[0m\u001b[0;34m:\u001b[0m\u001b[0;34m\u001b[0m\u001b[0m\n\u001b[1;32m    447\u001b[0m         \u001b[0;32mif\u001b[0m \u001b[0minfbounds\u001b[0m \u001b[0;34m==\u001b[0m \u001b[0;36m0\u001b[0m\u001b[0;34m:\u001b[0m\u001b[0;34m\u001b[0m\u001b[0m\n\u001b[0;32m--> 448\u001b[0;31m             \u001b[0;32mreturn\u001b[0m \u001b[0m_quadpack\u001b[0m\u001b[0;34m.\u001b[0m\u001b[0m_qagse\u001b[0m\u001b[0;34m(\u001b[0m\u001b[0mfunc\u001b[0m\u001b[0;34m,\u001b[0m\u001b[0ma\u001b[0m\u001b[0;34m,\u001b[0m\u001b[0mb\u001b[0m\u001b[0;34m,\u001b[0m\u001b[0margs\u001b[0m\u001b[0;34m,\u001b[0m\u001b[0mfull_output\u001b[0m\u001b[0;34m,\u001b[0m\u001b[0mepsabs\u001b[0m\u001b[0;34m,\u001b[0m\u001b[0mepsrel\u001b[0m\u001b[0;34m,\u001b[0m\u001b[0mlimit\u001b[0m\u001b[0;34m)\u001b[0m\u001b[0;34m\u001b[0m\u001b[0m\n\u001b[0m\u001b[1;32m    449\u001b[0m         \u001b[0;32melse\u001b[0m\u001b[0;34m:\u001b[0m\u001b[0;34m\u001b[0m\u001b[0m\n\u001b[1;32m    450\u001b[0m             \u001b[0;32mreturn\u001b[0m \u001b[0m_quadpack\u001b[0m\u001b[0;34m.\u001b[0m\u001b[0m_qagie\u001b[0m\u001b[0;34m(\u001b[0m\u001b[0mfunc\u001b[0m\u001b[0;34m,\u001b[0m\u001b[0mbound\u001b[0m\u001b[0;34m,\u001b[0m\u001b[0minfbounds\u001b[0m\u001b[0;34m,\u001b[0m\u001b[0margs\u001b[0m\u001b[0;34m,\u001b[0m\u001b[0mfull_output\u001b[0m\u001b[0;34m,\u001b[0m\u001b[0mepsabs\u001b[0m\u001b[0;34m,\u001b[0m\u001b[0mepsrel\u001b[0m\u001b[0;34m,\u001b[0m\u001b[0mlimit\u001b[0m\u001b[0;34m)\u001b[0m\u001b[0;34m\u001b[0m\u001b[0m\n",
      "\u001b[0;32m~/anaconda3/lib/python3.6/site-packages/scipy/integrate/quadpack.py\u001b[0m in \u001b[0;36mintegrate\u001b[0;34m(self, *args, **kwargs)\u001b[0m\n\u001b[1;32m    858\u001b[0m             \u001b[0mf\u001b[0m \u001b[0;34m=\u001b[0m \u001b[0mpartial\u001b[0m\u001b[0;34m(\u001b[0m\u001b[0mself\u001b[0m\u001b[0;34m.\u001b[0m\u001b[0mintegrate\u001b[0m\u001b[0;34m,\u001b[0m \u001b[0mdepth\u001b[0m\u001b[0;34m=\u001b[0m\u001b[0mdepth\u001b[0m\u001b[0;34m+\u001b[0m\u001b[0;36m1\u001b[0m\u001b[0;34m)\u001b[0m\u001b[0;34m\u001b[0m\u001b[0m\n\u001b[1;32m    859\u001b[0m         quad_r = quad(f, low, high, args=args, full_output=self.full_output,\n\u001b[0;32m--> 860\u001b[0;31m                       **opt)\n\u001b[0m\u001b[1;32m    861\u001b[0m         \u001b[0mvalue\u001b[0m \u001b[0;34m=\u001b[0m \u001b[0mquad_r\u001b[0m\u001b[0;34m[\u001b[0m\u001b[0;36m0\u001b[0m\u001b[0;34m]\u001b[0m\u001b[0;34m\u001b[0m\u001b[0m\n\u001b[1;32m    862\u001b[0m         \u001b[0mabserr\u001b[0m \u001b[0;34m=\u001b[0m \u001b[0mquad_r\u001b[0m\u001b[0;34m[\u001b[0m\u001b[0;36m1\u001b[0m\u001b[0;34m]\u001b[0m\u001b[0;34m\u001b[0m\u001b[0m\n",
      "\u001b[0;32m~/anaconda3/lib/python3.6/site-packages/scipy/integrate/quadpack.py\u001b[0m in \u001b[0;36mquad\u001b[0;34m(func, a, b, args, full_output, epsabs, epsrel, limit, points, weight, wvar, wopts, maxp1, limlst)\u001b[0m\n\u001b[1;32m    339\u001b[0m     \u001b[0;32mif\u001b[0m \u001b[0mweight\u001b[0m \u001b[0;32mis\u001b[0m \u001b[0;32mNone\u001b[0m\u001b[0;34m:\u001b[0m\u001b[0;34m\u001b[0m\u001b[0m\n\u001b[1;32m    340\u001b[0m         retval = _quad(func, a, b, args, full_output, epsabs, epsrel, limit,\n\u001b[0;32m--> 341\u001b[0;31m                        points)\n\u001b[0m\u001b[1;32m    342\u001b[0m     \u001b[0;32melse\u001b[0m\u001b[0;34m:\u001b[0m\u001b[0;34m\u001b[0m\u001b[0m\n\u001b[1;32m    343\u001b[0m         retval = _quad_weight(func, a, b, args, full_output, epsabs, epsrel,\n",
      "\u001b[0;32m~/anaconda3/lib/python3.6/site-packages/scipy/integrate/quadpack.py\u001b[0m in \u001b[0;36m_quad\u001b[0;34m(func, a, b, args, full_output, epsabs, epsrel, limit, points)\u001b[0m\n\u001b[1;32m    446\u001b[0m     \u001b[0;32mif\u001b[0m \u001b[0mpoints\u001b[0m \u001b[0;32mis\u001b[0m \u001b[0;32mNone\u001b[0m\u001b[0;34m:\u001b[0m\u001b[0;34m\u001b[0m\u001b[0m\n\u001b[1;32m    447\u001b[0m         \u001b[0;32mif\u001b[0m \u001b[0minfbounds\u001b[0m \u001b[0;34m==\u001b[0m \u001b[0;36m0\u001b[0m\u001b[0;34m:\u001b[0m\u001b[0;34m\u001b[0m\u001b[0m\n\u001b[0;32m--> 448\u001b[0;31m             \u001b[0;32mreturn\u001b[0m \u001b[0m_quadpack\u001b[0m\u001b[0;34m.\u001b[0m\u001b[0m_qagse\u001b[0m\u001b[0;34m(\u001b[0m\u001b[0mfunc\u001b[0m\u001b[0;34m,\u001b[0m\u001b[0ma\u001b[0m\u001b[0;34m,\u001b[0m\u001b[0mb\u001b[0m\u001b[0;34m,\u001b[0m\u001b[0margs\u001b[0m\u001b[0;34m,\u001b[0m\u001b[0mfull_output\u001b[0m\u001b[0;34m,\u001b[0m\u001b[0mepsabs\u001b[0m\u001b[0;34m,\u001b[0m\u001b[0mepsrel\u001b[0m\u001b[0;34m,\u001b[0m\u001b[0mlimit\u001b[0m\u001b[0;34m)\u001b[0m\u001b[0;34m\u001b[0m\u001b[0m\n\u001b[0m\u001b[1;32m    449\u001b[0m         \u001b[0;32melse\u001b[0m\u001b[0;34m:\u001b[0m\u001b[0;34m\u001b[0m\u001b[0m\n\u001b[1;32m    450\u001b[0m             \u001b[0;32mreturn\u001b[0m \u001b[0m_quadpack\u001b[0m\u001b[0;34m.\u001b[0m\u001b[0m_qagie\u001b[0m\u001b[0;34m(\u001b[0m\u001b[0mfunc\u001b[0m\u001b[0;34m,\u001b[0m\u001b[0mbound\u001b[0m\u001b[0;34m,\u001b[0m\u001b[0minfbounds\u001b[0m\u001b[0;34m,\u001b[0m\u001b[0margs\u001b[0m\u001b[0;34m,\u001b[0m\u001b[0mfull_output\u001b[0m\u001b[0;34m,\u001b[0m\u001b[0mepsabs\u001b[0m\u001b[0;34m,\u001b[0m\u001b[0mepsrel\u001b[0m\u001b[0;34m,\u001b[0m\u001b[0mlimit\u001b[0m\u001b[0;34m)\u001b[0m\u001b[0;34m\u001b[0m\u001b[0m\n",
      "\u001b[0;32m<ipython-input-38-04809f8b8d6f>\u001b[0m in \u001b[0;36mmyfunctoint_cal_testxx\u001b[0;34m(kx, ky, x, y, this_x, this_y)\u001b[0m\n\u001b[1;32m      1\u001b[0m \u001b[0;32mdef\u001b[0m \u001b[0mmyfunctoint_cal_testxx\u001b[0m\u001b[0;34m(\u001b[0m\u001b[0mkx\u001b[0m\u001b[0;34m,\u001b[0m\u001b[0mky\u001b[0m\u001b[0;34m,\u001b[0m\u001b[0mx\u001b[0m\u001b[0;34m,\u001b[0m\u001b[0my\u001b[0m\u001b[0;34m,\u001b[0m\u001b[0mthis_x\u001b[0m\u001b[0;34m,\u001b[0m\u001b[0mthis_y\u001b[0m\u001b[0;34m)\u001b[0m\u001b[0;34m:\u001b[0m\u001b[0;34m\u001b[0m\u001b[0m\n\u001b[0;32m----> 2\u001b[0;31m     \u001b[0;32mreturn\u001b[0m \u001b[0mmyfunctoint_cal\u001b[0m\u001b[0;34m(\u001b[0m\u001b[0mkx\u001b[0m\u001b[0;34m,\u001b[0m\u001b[0mky\u001b[0m\u001b[0;34m,\u001b[0m\u001b[0mx\u001b[0m\u001b[0;34m,\u001b[0m\u001b[0my\u001b[0m\u001b[0;34m,\u001b[0m\u001b[0mthis_x\u001b[0m\u001b[0;34m,\u001b[0m\u001b[0mthis_y\u001b[0m\u001b[0;34m)\u001b[0m\u001b[0;34m[\u001b[0m\u001b[0;36m0\u001b[0m\u001b[0;34m,\u001b[0m\u001b[0;36m0\u001b[0m\u001b[0;34m]\u001b[0m\u001b[0;34m\u001b[0m\u001b[0m\n\u001b[0m",
      "\u001b[0;32m<ipython-input-33-186022136213>\u001b[0m in \u001b[0;36mmyfunctoint_cal\u001b[0;34m(kx, ky, x, y, this_x, this_y)\u001b[0m\n\u001b[1;32m      3\u001b[0m     \u001b[0mNN\u001b[0m \u001b[0;34m=\u001b[0m \u001b[0;34m(\u001b[0m\u001b[0;36m2\u001b[0m\u001b[0;34m*\u001b[0m\u001b[0mn\u001b[0m\u001b[0;34m+\u001b[0m\u001b[0;36m1\u001b[0m\u001b[0;34m)\u001b[0m\u001b[0;34m*\u001b[0m\u001b[0;34m(\u001b[0m\u001b[0;36m2\u001b[0m\u001b[0;34m*\u001b[0m\u001b[0mn\u001b[0m\u001b[0;34m+\u001b[0m\u001b[0;36m1\u001b[0m\u001b[0;34m)\u001b[0m\u001b[0;34m\u001b[0m\u001b[0m\n\u001b[1;32m      4\u001b[0m     \u001b[0;31m#this_x = l/8\u001b[0m\u001b[0;34m\u001b[0m\u001b[0;34m\u001b[0m\u001b[0m\n\u001b[0;32m----> 5\u001b[0;31m     \u001b[0meigen\u001b[0m \u001b[0;34m=\u001b[0m \u001b[0mnp\u001b[0m\u001b[0;34m.\u001b[0m\u001b[0mlinalg\u001b[0m\u001b[0;34m.\u001b[0m\u001b[0meig\u001b[0m\u001b[0;34m(\u001b[0m\u001b[0mA_operator\u001b[0m\u001b[0;34m(\u001b[0m\u001b[0mkx\u001b[0m\u001b[0;34m,\u001b[0m\u001b[0mky\u001b[0m\u001b[0;34m,\u001b[0m\u001b[0mn\u001b[0m\u001b[0;34m)\u001b[0m\u001b[0;34m)\u001b[0m\u001b[0;34m\u001b[0m\u001b[0m\n\u001b[0m\u001b[1;32m      6\u001b[0m     \u001b[0mcoeff\u001b[0m \u001b[0;34m=\u001b[0m \u001b[0meigen\u001b[0m\u001b[0;34m[\u001b[0m\u001b[0;36m1\u001b[0m\u001b[0;34m]\u001b[0m\u001b[0;34m[\u001b[0m\u001b[0;34m:\u001b[0m\u001b[0;34m,\u001b[0m\u001b[0mnp\u001b[0m\u001b[0;34m.\u001b[0m\u001b[0margmin\u001b[0m\u001b[0;34m(\u001b[0m\u001b[0meigen\u001b[0m\u001b[0;34m[\u001b[0m\u001b[0;36m0\u001b[0m\u001b[0;34m]\u001b[0m\u001b[0;34m)\u001b[0m\u001b[0;34m]\u001b[0m\u001b[0;34m\u001b[0m\u001b[0m\n\u001b[1;32m      7\u001b[0m     \u001b[0mcoeff_x\u001b[0m \u001b[0;34m=\u001b[0m \u001b[0mcoeff\u001b[0m\u001b[0;34m[\u001b[0m\u001b[0;34m:\u001b[0m\u001b[0mNN\u001b[0m\u001b[0;34m]\u001b[0m\u001b[0;34m\u001b[0m\u001b[0m\n",
      "\u001b[0;32m~/anaconda3/lib/python3.6/site-packages/numpy/linalg/linalg.py\u001b[0m in \u001b[0;36meig\u001b[0;34m(a)\u001b[0m\n\u001b[1;32m   1147\u001b[0m         _raise_linalgerror_eigenvalues_nonconvergence)\n\u001b[1;32m   1148\u001b[0m     \u001b[0msignature\u001b[0m \u001b[0;34m=\u001b[0m \u001b[0;34m'D->DD'\u001b[0m \u001b[0;32mif\u001b[0m \u001b[0misComplexType\u001b[0m\u001b[0;34m(\u001b[0m\u001b[0mt\u001b[0m\u001b[0;34m)\u001b[0m \u001b[0;32melse\u001b[0m \u001b[0;34m'd->DD'\u001b[0m\u001b[0;34m\u001b[0m\u001b[0m\n\u001b[0;32m-> 1149\u001b[0;31m     \u001b[0mw\u001b[0m\u001b[0;34m,\u001b[0m \u001b[0mvt\u001b[0m \u001b[0;34m=\u001b[0m \u001b[0m_umath_linalg\u001b[0m\u001b[0;34m.\u001b[0m\u001b[0meig\u001b[0m\u001b[0;34m(\u001b[0m\u001b[0ma\u001b[0m\u001b[0;34m,\u001b[0m \u001b[0msignature\u001b[0m\u001b[0;34m=\u001b[0m\u001b[0msignature\u001b[0m\u001b[0;34m,\u001b[0m \u001b[0mextobj\u001b[0m\u001b[0;34m=\u001b[0m\u001b[0mextobj\u001b[0m\u001b[0;34m)\u001b[0m\u001b[0;34m\u001b[0m\u001b[0m\n\u001b[0m\u001b[1;32m   1150\u001b[0m \u001b[0;34m\u001b[0m\u001b[0m\n\u001b[1;32m   1151\u001b[0m     \u001b[0;32mif\u001b[0m \u001b[0;32mnot\u001b[0m \u001b[0misComplexType\u001b[0m\u001b[0;34m(\u001b[0m\u001b[0mt\u001b[0m\u001b[0;34m)\u001b[0m \u001b[0;32mand\u001b[0m \u001b[0mall\u001b[0m\u001b[0;34m(\u001b[0m\u001b[0mw\u001b[0m\u001b[0;34m.\u001b[0m\u001b[0mimag\u001b[0m \u001b[0;34m==\u001b[0m \u001b[0;36m0.0\u001b[0m\u001b[0;34m)\u001b[0m\u001b[0;34m:\u001b[0m\u001b[0;34m\u001b[0m\u001b[0m\n",
      "\u001b[0;31mKeyboardInterrupt\u001b[0m: "
     ]
    }
   ],
   "source": [
    "number = 100\n",
    "kernel_test = np.zeros((100,100))\n",
    "xx = np.linspace(-0.2,0.2,num = number)\n",
    "yy = np.linspace(-0.2,0.2,num = number)\n",
    "for i in range(number):\n",
    "    print(i)\n",
    "    for j in range(number):\n",
    "        kernel[i,j] = myfunc_cal(xx[i],yy[j],0,0)"
   ]
  },
  {
   "cell_type": "code",
   "execution_count": null,
   "metadata": {},
   "outputs": [],
   "source": []
  }
 ],
 "metadata": {
  "kernelspec": {
   "display_name": "Python 3",
   "language": "python",
   "name": "python3"
  },
  "language_info": {
   "codemirror_mode": {
    "name": "ipython",
    "version": 3
   },
   "file_extension": ".py",
   "mimetype": "text/x-python",
   "name": "python",
   "nbconvert_exporter": "python",
   "pygments_lexer": "ipython3",
   "version": "3.6.5"
  }
 },
 "nbformat": 4,
 "nbformat_minor": 2
}
