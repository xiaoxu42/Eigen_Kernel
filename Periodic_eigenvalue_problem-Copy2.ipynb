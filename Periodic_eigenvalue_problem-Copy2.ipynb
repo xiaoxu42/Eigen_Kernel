{
 "cells": [
  {
   "cell_type": "code",
   "execution_count": 1,
   "metadata": {},
   "outputs": [],
   "source": [
    "import numpy as np\n",
    "import math\n",
    "import scipy.integrate as integrate"
   ]
  },
  {
   "cell_type": "code",
   "execution_count": 2,
   "metadata": {},
   "outputs": [],
   "source": [
    "import matplotlib.pyplot as plt\n",
    "%matplotlib inline"
   ]
  },
  {
   "cell_type": "code",
   "execution_count": 3,
   "metadata": {},
   "outputs": [],
   "source": [
    "l = 0.02\n",
    "epsilon = l/2/math.pi"
   ]
  },
  {
   "cell_type": "code",
   "execution_count": 4,
   "metadata": {},
   "outputs": [],
   "source": [
    "def A_operator(k,n):\n",
    "    \n",
    "    #n = 40\n",
    "    a = 1.5\n",
    "    b = 1.4\n",
    "    A = np.zeros((2*n+1, 2*n+1))\n",
    "    epsilon = l/2/math.pi\n",
    "    \n",
    "    for i in range(2*n-1):\n",
    "        this_n = (i-n+1)/epsilon\n",
    "        A[i+1,i] = (this_n+k)*(b/2*(this_n - 1/epsilon)+b/2*k)\n",
    "        A[i+1,i+2] = (this_n+k)*(b/2*(this_n + 1/epsilon)+b/2*k)\n",
    "        A[i+1,i+1] = (this_n+k)*(a*this_n+a*k)\n",
    "    \n",
    "    i=-1\n",
    "    this_n = (i-n+1)/epsilon\n",
    "    A[i+1,i+2] = (this_n+k)*(b/2*(this_n + 1/epsilon)+b/2*k)\n",
    "    A[i+1,i+1] = (this_n+k)*(a*this_n+a*k)\n",
    "    \n",
    "    i=2*n-1\n",
    "    this_n = (i-n+1)/epsilon\n",
    "    A[i+1,i] = (this_n+k)*(b/2*(this_n - 1/epsilon)+b/2*k)\n",
    "    A[i+1,i+1] = (this_n+k)*(a*this_n+a*k)\n",
    "    \n",
    "    return A"
   ]
  },
  {
   "cell_type": "code",
   "execution_count": 5,
   "metadata": {},
   "outputs": [],
   "source": [
    "eigen = np.linalg.eig(A_operator(0.2,20))\n",
    "np.min(eigen[0])\n",
    "coeff = eigen[1][np.argmin(eigen[0])]\n",
    "sorted_eigen = np.sort(eigen[0])\n",
    "sorted_index = np.argsort(eigen[0])\n",
    "coeff2 = eigen[1][sorted_index[1]]"
   ]
  },
  {
   "cell_type": "code",
   "execution_count": 9,
   "metadata": {},
   "outputs": [],
   "source": [
    "coeff = eigen[1][np.argmin(eigen[0])]"
   ]
  },
  {
   "cell_type": "code",
   "execution_count": 9,
   "metadata": {},
   "outputs": [
    {
     "data": {
      "text/plain": [
       "314.15926535897927"
      ]
     },
     "execution_count": 9,
     "metadata": {},
     "output_type": "execute_result"
    }
   ],
   "source": [
    "1/epsilon"
   ]
  },
  {
   "cell_type": "code",
   "execution_count": 5,
   "metadata": {},
   "outputs": [
    {
     "data": {
      "text/plain": [
       "0.02155172236970265"
      ]
     },
     "execution_count": 5,
     "metadata": {},
     "output_type": "execute_result"
    }
   ],
   "source": [
    "n= 10\n",
    "eigen = np.linalg.eig(A_operator(0.2,n))\n",
    "coeff = eigen[1][:,np.argmin(eigen[0])]\n",
    "def test_eigenfunc(x,coeff,n):\n",
    "    \n",
    "    this_n = np.arange(-n,n+1)\n",
    "    exp_n = np.exp(1j*this_n*x/epsilon)\n",
    "    \n",
    "    return np.dot(exp_n,coeff)\n",
    "    #f = coeff[n]\n",
    "    #for i in range(n):\n",
    "        #f = f + coeff[n-i-1]*np.exp(-1j*(i+1)*x) +  coeff[n+i+1]*np.exp(1j*(i+1)*x)\n",
    "    #return f\n",
    "np.min(eigen[0])"
   ]
  },
  {
   "cell_type": "code",
   "execution_count": 17,
   "metadata": {},
   "outputs": [
    {
     "data": {
      "text/plain": [
       "[<matplotlib.lines.Line2D at 0x1514742320>]"
      ]
     },
     "execution_count": 17,
     "metadata": {},
     "output_type": "execute_result"
    },
    {
     "data": {
      "image/png": "[encoded data removed]",
      "text/plain": [
       "<Figure size 432x288 with 1 Axes>"
      ]
     },
     "metadata": {},
     "output_type": "display_data"
    }
   ],
   "source": [
    "n= 20\n",
    "eigen = np.linalg.eig(A_operator(200,n))\n",
    "\n",
    "sorted_index = np.argsort(eigen[0])\n",
    "sorted_eigen = np.sort(eigen[0])\n",
    "\n",
    "\n",
    "coeff = eigen[1][:,sorted_index[0]]\n",
    "coeff2 = eigen[1][:,sorted_index[1]]\n",
    "number = 1000\n",
    "xx = np.linspace(-0.02,0.02,num = number)\n",
    "yy = np.zeros(number,dtype=complex)\n",
    "\n",
    "xx2 = np.linspace(-0.02,0.02,num = number)\n",
    "yy2 = np.zeros(number,dtype=complex)\n",
    "for i in range(number):\n",
    "    yy[i] = test_eigenfunc(xx[i],coeff,n)\n",
    "    yy2[i] = test_eigenfunc(xx2[i],coeff2,n)\n",
    "    \n",
    "plt.plot(xx,yy.real)\n",
    "plt.plot(xx,yy2.real)"
   ]
  },
  {
   "cell_type": "code",
   "execution_count": 152,
   "metadata": {},
   "outputs": [
    {
     "data": {
      "text/plain": [
       "0.019989860852342056"
      ]
     },
     "execution_count": 152,
     "metadata": {},
     "output_type": "execute_result"
    }
   ],
   "source": [
    "epsilon*2*3.14"
   ]
  },
  {
   "cell_type": "code",
   "execution_count": 132,
   "metadata": {},
   "outputs": [
    {
     "data": {
      "text/plain": [
       "(-1.0708866745323284+0j)"
      ]
     },
     "execution_count": 132,
     "metadata": {},
     "output_type": "execute_result"
    }
   ],
   "source": [
    "test_eigenfunc(0,coeff,n)"
   ]
  },
  {
   "cell_type": "code",
   "execution_count": 134,
   "metadata": {},
   "outputs": [
    {
     "data": {
      "text/plain": [
       "(-1.0708866745323284-6.478045717231448e-16j)"
      ]
     },
     "execution_count": 134,
     "metadata": {},
     "output_type": "execute_result"
    }
   ],
   "source": [
    "test_eigenfunc(0.04,coeff,n)"
   ]
  },
  {
   "cell_type": "code",
   "execution_count": 42,
   "metadata": {},
   "outputs": [
    {
     "data": {
      "text/plain": [
       "array([14994991.13126726, 10670639.76159024,  7944255.89010213,\n",
       "        5910690.64572976,  4232657.24908993,  2838663.44805815,\n",
       "        1722421.76974747,   883691.98053102,    27344.85809238,\n",
       "          43334.53896152,   322506.10400633,   303752.09778475,\n",
       "         852425.94547814,  1678647.98626157,  2782377.71742174,\n",
       "        4163627.44717903,  5823091.48716272,  7774026.13371928,\n",
       "       10129297.76557909, 13306356.34987092, 18297880.52494869])"
      ]
     },
     "execution_count": 42,
     "metadata": {},
     "output_type": "execute_result"
    }
   ],
   "source": [
    "n= 10\n",
    "eigen = np.linalg.eig(A_operator(150,n))\n",
    "coeff = eigen[1][:,np.argmin(eigen[0])]\n",
    "eigen[0]"
   ]
  },
  {
   "cell_type": "code",
   "execution_count": 43,
   "metadata": {},
   "outputs": [
    {
     "data": {
      "text/plain": [
       "157.07963267948963"
      ]
     },
     "execution_count": 43,
     "metadata": {},
     "output_type": "execute_result"
    }
   ],
   "source": [
    "0.5/epsilon"
   ]
  },
  {
   "cell_type": "code",
   "execution_count": 137,
   "metadata": {},
   "outputs": [
    {
     "data": {
      "text/plain": [
       "[<matplotlib.lines.Line2D at 0x1519683a58>]"
      ]
     },
     "execution_count": 137,
     "metadata": {},
     "output_type": "execute_result"
    },
    {
     "data": {
      "image/png": "[encoded data removed]",
      "text/plain": [
       "<Figure size 432x288 with 1 Axes>"
      ]
     },
     "metadata": {},
     "output_type": "display_data"
    }
   ],
   "source": [
    "n= 20\n",
    "k=5\n",
    "kk = k+4/epsilon\n",
    "eigen = np.linalg.eig(A_operator(k,n))\n",
    "eigen2 = np.linalg.eig(A_operator(kk,n))\n",
    "coeff = eigen[1][:,np.argmin(eigen[0])]\n",
    "sorted_eigen = np.sort(eigen[0])\n",
    "sorted_index = np.argsort(eigen[0])\n",
    "#coeff2 = eigen[1][:,sorted_index[1]]\n",
    "\n",
    "coeff2 = eigen2[1][:,np.argmin(eigen2[0])]\n",
    "sorted_eigen2 = np.sort(eigen2[0])\n",
    "sorted_index2 = np.argsort(eigen2[0])\n",
    "\n",
    "number = 100\n",
    "xx = np.linspace(-0.02,0.02,num = number)\n",
    "yy = np.zeros(number,dtype=complex)\n",
    "\n",
    "xx2 = np.linspace(-0.02,0.02,num = number)\n",
    "yy2 = np.zeros(number,dtype=complex)\n",
    "for i in range(number):\n",
    "    yy[i] = test_eigenfunc(xx[i],coeff,n)*np.exp(1j*xx[i]*k)\n",
    "    yy2[i] = test_eigenfunc(xx[i],coeff2,n)*np.exp(1j*xx[i]*kk)\n",
    "    \n",
    "plt.plot(xx,yy.real)\n",
    "plt.plot(xx2,yy2.real)\n",
    "#plt.plot(xx2,yy2.imag)"
   ]
  },
  {
   "cell_type": "code",
   "execution_count": 126,
   "metadata": {},
   "outputs": [
    {
     "data": {
      "text/plain": [
       "array([-2.29289962e-07,  5.17216965e-07, -9.15160541e-07,  1.49839915e-06,\n",
       "       -2.38206300e-06,  3.74667704e-06, -5.87996881e-06,  9.24654510e-06,\n",
       "       -1.46061101e-05,  2.32180836e-05, -3.72042410e-05,  6.02103397e-05,\n",
       "       -9.86580697e-05,  1.64227582e-04, -2.79092626e-04,  4.87918497e-04,\n",
       "       -8.88767536e-04,  1.72777476e-03, -3.78368992e-03,  1.11073542e-02,\n",
       "        9.99862237e-01, -1.07592370e-02,  3.72390745e-03, -1.70952083e-03,\n",
       "        8.81713328e-04, -4.84816815e-04,  2.77612831e-04, -1.63480666e-04,\n",
       "        9.82652046e-05, -5.99970946e-05,  3.70855894e-05, -2.31507347e-05,\n",
       "        1.45672543e-05, -9.22382883e-06,  5.86654923e-06, -3.73869281e-06,\n",
       "        2.37730206e-06, -1.49557936e-06,  9.13533353e-07, -5.16345389e-07,\n",
       "        2.28922755e-07])"
      ]
     },
     "execution_count": 126,
     "metadata": {},
     "output_type": "execute_result"
    }
   ],
   "source": [
    "coeff"
   ]
  },
  {
   "cell_type": "code",
   "execution_count": 85,
   "metadata": {},
   "outputs": [
    {
     "data": {
      "text/plain": [
       "array([9.16459598e+07, 7.04116202e+07, 5.57068627e+07, 4.45605153e+07,\n",
       "       3.57777751e+07, 2.87161315e+07, 2.29756629e+07, 1.82840874e+07,\n",
       "       1.44443717e+07, 1.13074576e+07, 8.75657751e+06, 6.69723799e+06,\n",
       "       5.04951944e+06, 3.74051902e+06, 2.69907226e+06, 1.86244949e+06,\n",
       "       1.19191712e+06, 6.73125181e+05, 3.03068267e+05, 8.25390998e+04,\n",
       "       9.16459598e+07, 7.04116202e+07, 5.57068627e+07, 4.45605153e+07,\n",
       "       3.57777751e+07, 2.87161315e+07, 2.29756629e+07, 1.82840874e+07,\n",
       "       1.44443717e+07, 1.13074576e+07, 8.75657751e+06, 6.69723799e+06,\n",
       "       5.04951944e+06, 3.74051902e+06, 2.69907226e+06, 1.86244949e+06,\n",
       "       1.19191712e+06, 6.73125181e+05, 3.03068267e+05, 8.25390998e+04,\n",
       "       0.00000000e+00])"
      ]
     },
     "execution_count": 85,
     "metadata": {},
     "output_type": "execute_result"
    }
   ],
   "source": [
    "eigen[0]"
   ]
  },
  {
   "cell_type": "code",
   "execution_count": 45,
   "metadata": {},
   "outputs": [
    {
     "data": {
      "text/plain": [
       "array([-1.0000896 , -1.00008521, -1.00007229, -1.00005158, -1.00002439,\n",
       "       -0.99999264, -0.99995897, -0.99992673, -0.99989986, -0.99988227,\n",
       "       -0.99987695, -0.99988488, -0.99990461, -0.99993288, -0.9999657 ,\n",
       "       -0.99999924, -1.00003026, -1.00005629, -1.00007553, -1.00008679,\n",
       "       -1.00008943, -1.0000833 , -1.00006874, -1.00004661, -1.00001833,\n",
       "       -0.99998596, -0.99995228, -0.9999208 , -0.99989548, -0.99988016,\n",
       "       -0.99987749, -0.99988796, -0.9999097 , -0.99993921, -0.99997247,\n",
       "       -1.00000573, -1.00003594, -1.00006073, -1.00007845, -1.00008802,\n",
       "       -1.0000889 , -1.00008104, -1.00006488, -1.00004139, -1.0000121 ,\n",
       "       -0.99997923, -0.99994569, -0.99991511, -0.99989151, -0.99987856,\n",
       "       -0.99987856, -0.99989151, -0.99991511, -0.99994569, -0.99997923,\n",
       "       -1.0000121 , -1.00004139, -1.00006488, -1.00008104, -1.0000889 ,\n",
       "       -1.00008802, -1.00007845, -1.00006073, -1.00003594, -1.00000573,\n",
       "       -0.99997247, -0.99993921, -0.9999097 , -0.99988796, -0.99987749,\n",
       "       -0.99988016, -0.99989548, -0.9999208 , -0.99995228, -0.99998596,\n",
       "       -1.00001833, -1.00004661, -1.00006874, -1.0000833 , -1.00008943,\n",
       "       -1.00008679, -1.00007553, -1.00005629, -1.00003026, -0.99999924,\n",
       "       -0.9999657 , -0.99993288, -0.99990461, -0.99988488, -0.99987695,\n",
       "       -0.99988227, -0.99989986, -0.99992673, -0.99995897, -0.99999264,\n",
       "       -1.00002439, -1.00005158, -1.00007229, -1.00008521, -1.0000896 ])"
      ]
     },
     "execution_count": 45,
     "metadata": {},
     "output_type": "execute_result"
    }
   ],
   "source": [
    "yy.real"
   ]
  },
  {
   "cell_type": "code",
   "execution_count": 179,
   "metadata": {},
   "outputs": [
    {
     "name": "stderr",
     "output_type": "stream",
     "text": [
      "/Users/xiao/anaconda3/lib/python3.6/site-packages/scipy/integrate/quadpack.py:385: IntegrationWarning: The occurrence of roundoff error is detected, which prevents \n",
      "  the requested tolerance from being achieved.  The error may be \n",
      "  underestimated.\n",
      "  warnings.warn(msg, IntegrationWarning)\n"
     ]
    },
    {
     "data": {
      "image/png": "[encoded data removed]",
      "text/plain": [
       "<Figure size 432x288 with 1 Axes>"
      ]
     },
     "metadata": {},
     "output_type": "display_data"
    }
   ],
   "source": [
    "x = np.linspace(-0.2,0.2,num=200)\n",
    "y = np.linspace(-0.2,0.2,num=200)\n",
    "for i in range(200):\n",
    "    y[i] = myfunc_cal_test(x[i])\n",
    "plt.plot(x,y)\n",
    "x = np.linspace(-0.2,0.2,num=200)\n",
    "y = np.linspace(-0.2,0.2,num=200)\n",
    "for k in range(5):\n",
    "    this_x = k/5*l\n",
    "    for i in range(200):\n",
    "        y[i] = myfunc_cal(x[i],this_x)\n",
    "    plt.plot(x,y)"
   ]
  },
  {
   "cell_type": "code",
   "execution_count": 168,
   "metadata": {},
   "outputs": [],
   "source": [
    "def myfunctoint_cal(k,x,this_x):\n",
    "    n= 20\n",
    "    #this_x = l/8\n",
    "    eigen = np.linalg.eig(A_operator(k,n))\n",
    "    coeff = eigen[1][:,np.argmin(eigen[0])]\n",
    "    lamda_cal = np.min(eigen[0])\n",
    "    fi_x = test_eigenfunc(this_x,coeff,n)\n",
    "    fi_xp = test_eigenfunc(this_x+x,coeff,n)\n",
    "    fifi = fi_x*np.conj(fi_xp)\n",
    "    return (np.exp(-1j*x*k)*fifi).real*lamda_cal/l\n",
    "    #return math.cos(x*k)*lamda_cal/l"
   ]
  },
  {
   "cell_type": "code",
   "execution_count": 175,
   "metadata": {},
   "outputs": [],
   "source": [
    "def myfunctoint_cal_test(k,x):\n",
    "    n= 20\n",
    "    #this_x = l/8\n",
    "    eigen = np.linalg.eig(A_operator(k,n))\n",
    "    coeff = eigen[1][:,np.argmin(eigen[0])]\n",
    "    lamda_cal = np.min(eigen[0])\n",
    "    fi_x = test_eigenfunc(-x,coeff**2,n)\n",
    "    return (np.exp(-1j*x*k)*fi_x).real*lamda_cal/l"
   ]
  },
  {
   "cell_type": "code",
   "execution_count": 223,
   "metadata": {},
   "outputs": [],
   "source": [
    "def myfunctoint_cal_12(k,x,this_x):\n",
    "    n= 20\n",
    "    #this_x = l/8\n",
    "    eigen = np.linalg.eig(A_operator(k,n))\n",
    "\n",
    "    sorted_index = np.argsort(eigen[0])\n",
    "    sorted_eigen = np.sort(eigen[0])\n",
    "\n",
    "\n",
    "    coeff1 = eigen[1][:,sorted_index[0]]\n",
    "    coeff2 = eigen[1][:,sorted_index[1]]\n",
    "    \n",
    "    #eigen = np.linalg.eig(A_operator(k,n))\n",
    "    #coeff = eigen[1][:,np.argmin(eigen[0])]\n",
    "    \n",
    "    lamda_cal_1 = sorted_eigen[0]\n",
    "    lamda_cal_2 = sorted_eigen[1]\n",
    "    fi_x_1 = test_eigenfunc(this_x,coeff1,n)\n",
    "    fi_xp_1 = test_eigenfunc(this_x+x,coeff1,n)\n",
    "    fifi_1 = fi_x_1*np.conj(fi_xp_1)\n",
    "    \n",
    "    fi_x_2 = test_eigenfunc(this_x,coeff2,n)\n",
    "    fi_xp_2 = test_eigenfunc(this_x+x,coeff2,n)\n",
    "    fifi_2 = fi_x_2*np.conj(fi_xp_2)\n",
    "    \n",
    "    \n",
    "    return (np.exp(-1j*x*k)*fifi_1).real*lamda_cal_1/l + (np.exp(-1j*x*k)*fifi_2).real*lamda_cal_2/l\n",
    "    #return math.cos(x*k)*lamda_cal/l"
   ]
  },
  {
   "cell_type": "code",
   "execution_count": 40,
   "metadata": {},
   "outputs": [],
   "source": [
    "def myfunctoint_cal_123(k,x,this_x):\n",
    "    n= 20\n",
    "    #this_x = l/8\n",
    "    eigen = np.linalg.eig(A_operator(k,n))\n",
    "\n",
    "    sorted_index = np.argsort(eigen[0])\n",
    "    sorted_eigen = np.sort(eigen[0])\n",
    "\n",
    "\n",
    "    coeff1 = eigen[1][:,sorted_index[0]]\n",
    "    coeff2 = eigen[1][:,sorted_index[1]]\n",
    "    coeff3 = eigen[1][:,sorted_index[2]]\n",
    "    \n",
    "    #eigen = np.linalg.eig(A_operator(k,n))\n",
    "    #coeff = eigen[1][:,np.argmin(eigen[0])]\n",
    "    \n",
    "    lamda_cal_1 = sorted_eigen[0]\n",
    "    lamda_cal_2 = sorted_eigen[1]\n",
    "    lamda_cal_3 = sorted_eigen[2]\n",
    "    \n",
    "    fi_x_1 = test_eigenfunc(this_x,coeff1,n)\n",
    "    fi_xp_1 = test_eigenfunc(this_x+x,coeff1,n)\n",
    "    fifi_1 = fi_x_1*np.conj(fi_xp_1)\n",
    "    \n",
    "    fi_x_2 = test_eigenfunc(this_x,coeff2,n)\n",
    "    fi_xp_2 = test_eigenfunc(this_x+x,coeff2,n)\n",
    "    fifi_2 = fi_x_2*np.conj(fi_xp_2)\n",
    "    \n",
    "    fi_x_3 = test_eigenfunc(this_x,coeff3,n)\n",
    "    fi_xp_3 = test_eigenfunc(this_x+x,coeff3,n)\n",
    "    fifi_3 = fi_x_3*np.conj(fi_xp_3)\n",
    "    \n",
    "    \n",
    "    return (np.exp(1j*x*k)*fifi_1).real*lamda_cal_1/l + (np.exp(1j*x*k)*fifi_2).real*lamda_cal_2/l + (np.exp(1j*x*k)*fifi_3).real*lamda_cal_3/l \n",
    "    #return math.cos(x*k)*lamda_cal/l"
   ]
  },
  {
   "cell_type": "code",
   "execution_count": 49,
   "metadata": {},
   "outputs": [],
   "source": [
    "def myfunctoint_cal_1234(k,x,this_x):\n",
    "    n= 20\n",
    "    #this_x = l/8\n",
    "    eigen = np.linalg.eig(A_operator(k,n))\n",
    "\n",
    "    sorted_index = np.argsort(eigen[0])\n",
    "    sorted_eigen = np.sort(eigen[0])\n",
    "\n",
    "\n",
    "    coeff1 = eigen[1][:,sorted_index[0]]\n",
    "    coeff2 = eigen[1][:,sorted_index[1]]\n",
    "    coeff3 = eigen[1][:,sorted_index[2]]\n",
    "    coeff4 = eigen[1][:,sorted_index[3]]\n",
    "    \n",
    "    #eigen = np.linalg.eig(A_operator(k,n))\n",
    "    #coeff = eigen[1][:,np.argmin(eigen[0])]\n",
    "    \n",
    "    lamda_cal_1 = sorted_eigen[0]\n",
    "    lamda_cal_2 = sorted_eigen[1]\n",
    "    lamda_cal_3 = sorted_eigen[2]\n",
    "    lamda_cal_4 = sorted_eigen[3]\n",
    "    \n",
    "    fi_x_1 = test_eigenfunc(this_x,coeff1,n)\n",
    "    fi_xp_1 = test_eigenfunc(this_x+x,coeff1,n)\n",
    "    fifi_1 = fi_x_1*np.conj(fi_xp_1)\n",
    "    \n",
    "    fi_x_2 = test_eigenfunc(this_x,coeff2,n)\n",
    "    fi_xp_2 = test_eigenfunc(this_x+x,coeff2,n)\n",
    "    fifi_2 = fi_x_2*np.conj(fi_xp_2)\n",
    "    \n",
    "    fi_x_3 = test_eigenfunc(this_x,coeff3,n)\n",
    "    fi_xp_3 = test_eigenfunc(this_x+x,coeff3,n)\n",
    "    fifi_3 = fi_x_3*np.conj(fi_xp_3)\n",
    "    \n",
    "    fi_x_4 = test_eigenfunc(this_x,coeff4,n)\n",
    "    fi_xp_4 = test_eigenfunc(this_x+x,coeff4,n)\n",
    "    fifi_4 = fi_x_4*np.conj(fi_xp_4)\n",
    "    \n",
    "    \n",
    "    return (np.exp(1j*x*k)*fifi_1).real*lamda_cal_1/l + (np.exp(1j*x*k)*fifi_2).real*lamda_cal_2/l + (np.exp(1j*x*k)*fifi_3).real*lamda_cal_3/l + (np.exp(1j*x*k)*fifi_4).real*lamda_cal_4/l \n",
    "    #return math.cos(x*k)*lamda_cal/l"
   ]
  },
  {
   "cell_type": "code",
   "execution_count": 219,
   "metadata": {},
   "outputs": [],
   "source": [
    "def myfunctoint_cal_m(k,x,this_x,m):\n",
    "    n= 20\n",
    "    #this_x = l/8\n",
    "    eigen = np.linalg.eig(A_operator(k,n))\n",
    "\n",
    "    sorted_index = np.argsort(eigen[0])\n",
    "    sorted_eigen = np.sort(eigen[0])\n",
    "    \n",
    "    temp = 0\n",
    "    \n",
    "    for i in range(m):\n",
    "        coeff = eigen[1][:,sorted_index[i]]\n",
    "        lamda_cal = sorted_eigen[i]\n",
    "        fi_x = test_eigenfunc(this_x,coeff,n)\n",
    "        fi_xp = test_eigenfunc(this_x+x,coeff,n)\n",
    "        fifi = fi_x*np.conj(fi_xp)\n",
    "        \n",
    "        temp += (np.exp(-1j*x*k)*fifi).real*lamda_cal/l\n",
    "    \n",
    "    return temp\n",
    "\n",
    "\n",
    "   "
   ]
  },
  {
   "cell_type": "code",
   "execution_count": 20,
   "metadata": {},
   "outputs": [],
   "source": [
    "def myfunc_cal_test(x):\n",
    "    return integrate.quad(myfunctoint_cal_test,-1/2/epsilon,1/2/epsilon,args=(x,))[0]"
   ]
  },
  {
   "cell_type": "code",
   "execution_count": 31,
   "metadata": {},
   "outputs": [],
   "source": [
    "def myfunc_cal_12(x,this_x):\n",
    "    return integrate.quad(myfunctoint_cal_12,-1/2/epsilon,1/2/epsilon,args=(x,this_x))[0]"
   ]
  },
  {
   "cell_type": "code",
   "execution_count": 41,
   "metadata": {},
   "outputs": [],
   "source": [
    "def myfunc_cal_123(x,this_x):\n",
    "    return integrate.quad(myfunctoint_cal_123,-1/2/epsilon,1/2/epsilon,args=(x,this_x))[0]"
   ]
  },
  {
   "cell_type": "code",
   "execution_count": 51,
   "metadata": {},
   "outputs": [],
   "source": [
    "def myfunc_cal_1234(x,this_x):\n",
    "    return integrate.quad(myfunctoint_cal_1234,-1/2/epsilon,1/2/epsilon,args=(x,this_x))[0]"
   ]
  },
  {
   "cell_type": "code",
   "execution_count": 64,
   "metadata": {},
   "outputs": [],
   "source": [
    "def myfunc_cal_m(x,this_x,m):\n",
    "    return integrate.quad(myfunctoint_cal_m,-1/2/epsilon,1/2/epsilon,args=(x,this_x,m))[0]"
   ]
  },
  {
   "cell_type": "code",
   "execution_count": 92,
   "metadata": {},
   "outputs": [],
   "source": [
    "def bloch_coeff_1(k,u,dx):\n",
    "    numberofpoints = u.shape[0]\n",
    "    x = np.linspace(0,numberofpoints*dx-dx,num=numberofpoints)\n",
    "    fi_x = np.zeros(numberofpoints,dtype=complex)\n",
    "    \n",
    "    n= 20\n",
    "    #this_x = l/8\n",
    "    eigen = np.linalg.eig(A_operator(k,n))\n",
    "    coeff = eigen[1][:,np.argmin(eigen[0])]\n",
    "    \n",
    "    for i in range(numberofpoints):\n",
    "        fi_x[i] = test_eigenfunc(x[i],coeff,n)\n",
    "    \n",
    "    exp_kx = np.exp(-1j*k*x)\n",
    "    \n",
    "    return np.sum(u*exp_kx*np.conj(fi_x))*dx"
   ]
  },
  {
   "cell_type": "code",
   "execution_count": 255,
   "metadata": {},
   "outputs": [],
   "source": [
    "def bloch_coeff_2(k,u,dx):\n",
    "    numberofpoints = u.shape[0]\n",
    "    x = np.linspace(0,numberofpoints*dx-dx,num=numberofpoints)\n",
    "    fi_x = np.zeros(numberofpoints,dtype=complex)\n",
    "    \n",
    "    n= 20\n",
    "    #this_x = l/8\n",
    "    eigen = np.linalg.eig(A_operator(k,n))\n",
    "    \n",
    "    sorted_index = np.argsort(eigen[0])\n",
    "    #sorted_eigen = np.sort(eigen[0])\n",
    "    \n",
    "    coeff = eigen[1][:,sorted_index[1]]\n",
    "    \n",
    "    if coeff[20]>0:\n",
    "    \n",
    "        for i in range(numberofpoints):\n",
    "            fi_x[i] = test_eigenfunc(x[i],coeff,n)\n",
    "    else:\n",
    "        for i in range(numberofpoints):\n",
    "            fi_x[i] = test_eigenfunc(x[i],-coeff,n)\n",
    "    \n",
    "    exp_kx = np.exp(-1j*k*x)\n",
    "    \n",
    "    return np.sum(u*exp_kx*np.conj(fi_x))*dx"
   ]
  },
  {
   "cell_type": "code",
   "execution_count": 249,
   "metadata": {},
   "outputs": [],
   "source": [
    "def inverse_bloch_1_toint(k,x,u,dx):\n",
    "    eigen = np.linalg.eig(A_operator(k,20))\n",
    "    coeff = eigen[1][:,np.argmin(eigen[0])]\n",
    "    fi_x = test_eigenfunc(x,coeff,n)\n",
    "    return (bloch_coeff_1(k,u,dx)*np.exp(1j*k*x)*fi_x).real"
   ]
  },
  {
   "cell_type": "code",
   "execution_count": 256,
   "metadata": {},
   "outputs": [],
   "source": [
    "def inverse_bloch_2_toint(k,x,u,dx):\n",
    "    eigen = np.linalg.eig(A_operator(k,20))\n",
    "    sorted_index = np.argsort(eigen[0])\n",
    "    coeff = eigen[1][:,sorted_index[1]]\n",
    "    if coeff[20]>0:\n",
    "        fi_x = test_eigenfunc(x,coeff,n)\n",
    "    else:\n",
    "        fi_x = test_eigenfunc(x,-coeff,n)\n",
    "    return (bloch_coeff_2(k,u,dx)*np.exp(1j*k*x)*fi_x).real"
   ]
  },
  {
   "cell_type": "code",
   "execution_count": 251,
   "metadata": {},
   "outputs": [],
   "source": [
    "def inverse_bloch_1tt_toint(k,x,u,dx):\n",
    "    eigen = np.linalg.eig(A_operator(k,20))\n",
    "    coeff = eigen[1][:,np.argmin(eigen[0])]\n",
    "    lamda_cal = np.min(eigen[0])\n",
    "    fi_x = test_eigenfunc(x,coeff,n)\n",
    "    return lamda_cal*(bloch_coeff_1(k,u,dx)*np.exp(1j*k*x)*fi_x).real"
   ]
  },
  {
   "cell_type": "code",
   "execution_count": 98,
   "metadata": {},
   "outputs": [],
   "source": [
    "def bloch_projection_1(x,u,dx):\n",
    "    return integrate.quad(inverse_bloch_1_toint,-1/2/epsilon,1/2/epsilon,args=(x,u,dx))[0]"
   ]
  },
  {
   "cell_type": "code",
   "execution_count": 211,
   "metadata": {},
   "outputs": [],
   "source": [
    "def bloch_projection_2(x,u,dx):\n",
    "    return integrate.quad(inverse_bloch_2_toint,-1/2/epsilon,1/2/epsilon,args=(x,u,dx),limit=200)[0]"
   ]
  },
  {
   "cell_type": "code",
   "execution_count": 143,
   "metadata": {},
   "outputs": [],
   "source": [
    "def bloch_projection_1tt(x,u,dx):\n",
    "    return integrate.quad(inverse_bloch_1tt_toint,-1/2/epsilon,1/2/epsilon,args=(x,u,dx))[0]"
   ]
  },
  {
   "cell_type": "code",
   "execution_count": 206,
   "metadata": {},
   "outputs": [],
   "source": [
    "uu = np.loadtxt('./Documents/CFR/u_eigen_test.csv',delimiter=',')"
   ]
  },
  {
   "cell_type": "code",
   "execution_count": 248,
   "metadata": {},
   "outputs": [
    {
     "data": {
      "text/plain": [
       "20"
      ]
     },
     "execution_count": 248,
     "metadata": {},
     "output_type": "execute_result"
    }
   ],
   "source": [
    "n"
   ]
  },
  {
   "cell_type": "code",
   "execution_count": 257,
   "metadata": {},
   "outputs": [
    {
     "name": "stdout",
     "output_type": "stream",
     "text": [
      "0\n",
      "1\n",
      "2\n",
      "3\n",
      "4\n",
      "5\n",
      "6\n",
      "7\n",
      "8\n",
      "9\n",
      "10\n",
      "11\n",
      "12\n",
      "13\n",
      "14\n",
      "15\n",
      "16\n",
      "17\n",
      "18\n",
      "19\n",
      "20\n",
      "21\n",
      "22\n",
      "23\n",
      "24\n",
      "25\n",
      "26\n",
      "27\n",
      "28\n",
      "29\n",
      "30\n",
      "31\n",
      "32\n",
      "33\n",
      "34\n",
      "35\n",
      "36\n",
      "37\n",
      "38\n",
      "39\n",
      "40\n",
      "41\n",
      "42\n",
      "43\n",
      "44\n",
      "45\n",
      "46\n",
      "47\n",
      "48\n",
      "49\n",
      "50\n",
      "51\n",
      "52\n",
      "53\n",
      "54\n",
      "55\n",
      "56\n",
      "57\n",
      "58\n",
      "59\n",
      "60\n",
      "61\n",
      "62\n",
      "63\n",
      "64\n",
      "65\n",
      "66\n",
      "67\n",
      "68\n",
      "69\n",
      "70\n",
      "71\n",
      "72\n",
      "73\n",
      "74\n",
      "75\n",
      "76\n",
      "77\n",
      "78\n",
      "79\n",
      "80\n",
      "81\n",
      "82\n",
      "83\n",
      "84\n",
      "85\n",
      "86\n",
      "87\n",
      "88\n",
      "89\n",
      "90\n",
      "91\n",
      "92\n",
      "93\n",
      "94\n",
      "95\n",
      "96\n",
      "97\n",
      "98\n",
      "99\n",
      "100\n",
      "101\n",
      "102\n",
      "103\n",
      "104\n",
      "105\n",
      "106\n",
      "107\n",
      "108\n",
      "109\n",
      "110\n",
      "111\n",
      "112\n",
      "113\n",
      "114\n",
      "115\n",
      "116\n",
      "117\n",
      "118\n",
      "119\n",
      "120\n",
      "121\n",
      "122\n",
      "123\n",
      "124\n",
      "125\n",
      "126\n",
      "127\n",
      "128\n",
      "129\n",
      "130\n",
      "131\n",
      "132\n",
      "133\n",
      "134\n",
      "135\n",
      "136\n",
      "137\n",
      "138\n",
      "139\n",
      "140\n",
      "141\n",
      "142\n",
      "143\n",
      "144\n",
      "145\n",
      "146\n",
      "147\n",
      "148\n",
      "149\n",
      "150\n",
      "151\n",
      "152\n",
      "153\n",
      "154\n",
      "155\n",
      "156\n",
      "157\n",
      "158\n",
      "159\n",
      "160\n",
      "161\n",
      "162\n",
      "163\n",
      "164\n",
      "165\n",
      "166\n",
      "167\n",
      "168\n",
      "169\n",
      "170\n",
      "171\n",
      "172\n",
      "173\n",
      "174\n",
      "175\n",
      "176\n",
      "177\n",
      "178\n",
      "179\n",
      "180\n",
      "181\n",
      "182\n",
      "183\n",
      "184\n",
      "185\n",
      "186\n",
      "187\n",
      "188\n",
      "189\n",
      "190\n",
      "191\n",
      "192\n",
      "193\n",
      "194\n",
      "195\n",
      "196\n",
      "197\n",
      "198\n",
      "199\n",
      "200\n",
      "201\n",
      "202\n",
      "203\n",
      "204\n",
      "205\n",
      "206\n",
      "207\n",
      "208\n",
      "209\n",
      "210\n",
      "211\n",
      "212\n",
      "213\n",
      "214\n",
      "215\n",
      "216\n",
      "217\n",
      "218\n",
      "219\n",
      "220\n",
      "221\n",
      "222\n",
      "223\n",
      "224\n",
      "225\n",
      "226\n",
      "227\n",
      "228\n",
      "229\n",
      "230\n",
      "231\n",
      "232\n",
      "233\n",
      "234\n",
      "235\n",
      "236\n",
      "237\n",
      "238\n",
      "239\n",
      "240\n",
      "241\n",
      "242\n",
      "243\n",
      "244\n",
      "245\n",
      "246\n",
      "247\n",
      "248\n",
      "249\n",
      "250\n",
      "251\n",
      "252\n",
      "253\n",
      "254\n",
      "255\n",
      "256\n",
      "257\n",
      "258\n",
      "259\n",
      "260\n",
      "261\n",
      "262\n",
      "263\n",
      "264\n",
      "265\n",
      "266\n",
      "267\n",
      "268\n",
      "269\n",
      "270\n",
      "271\n",
      "272\n",
      "273\n",
      "274\n",
      "275\n",
      "276\n",
      "277\n",
      "278\n",
      "279\n",
      "280\n",
      "281\n",
      "282\n",
      "283\n",
      "284\n",
      "285\n",
      "286\n",
      "287\n",
      "288\n",
      "289\n",
      "290\n",
      "291\n",
      "292\n",
      "293\n",
      "294\n",
      "295\n",
      "296\n",
      "297\n",
      "298\n",
      "299\n",
      "300\n",
      "301\n",
      "302\n",
      "303\n",
      "304\n",
      "305\n",
      "306\n",
      "307\n",
      "308\n",
      "309\n",
      "310\n",
      "311\n",
      "312\n",
      "313\n",
      "314\n",
      "315\n",
      "316\n",
      "317\n",
      "318\n",
      "319\n",
      "320\n",
      "321\n",
      "322\n",
      "323\n",
      "324\n",
      "325\n",
      "326\n",
      "327\n",
      "328\n",
      "329\n",
      "330\n",
      "331\n",
      "332\n",
      "333\n",
      "334\n",
      "335\n",
      "336\n",
      "337\n",
      "338\n",
      "339\n",
      "340\n",
      "341\n",
      "342\n",
      "343\n",
      "344\n",
      "345\n",
      "346\n",
      "347\n",
      "348\n",
      "349\n",
      "350\n",
      "351\n",
      "352\n",
      "353\n",
      "354\n",
      "355\n",
      "356\n",
      "357\n",
      "358\n",
      "359\n",
      "360\n",
      "361\n",
      "362\n",
      "363\n",
      "364\n",
      "365\n",
      "366\n",
      "367\n",
      "368\n",
      "369\n",
      "370\n",
      "371\n",
      "372\n",
      "373\n",
      "374\n",
      "375\n",
      "376\n",
      "377\n",
      "378\n",
      "379\n",
      "380\n",
      "381\n",
      "382\n",
      "383\n",
      "384\n",
      "385\n",
      "386\n",
      "387\n",
      "388\n",
      "389\n",
      "390\n",
      "391\n",
      "392\n",
      "393\n",
      "394\n",
      "395\n",
      "396\n",
      "397\n",
      "398\n",
      "399\n",
      "400\n",
      "401\n",
      "402\n",
      "403\n",
      "404\n",
      "405\n",
      "406\n",
      "407\n",
      "408\n",
      "409\n",
      "410\n",
      "411\n",
      "412\n",
      "413\n",
      "414\n",
      "415\n",
      "416\n",
      "417\n",
      "418\n",
      "419\n",
      "420\n",
      "421\n",
      "422\n",
      "423\n",
      "424\n",
      "425\n",
      "426\n",
      "427\n",
      "428\n",
      "429\n",
      "430\n",
      "431\n",
      "432\n",
      "433\n",
      "434\n",
      "435\n",
      "436\n",
      "437\n",
      "438\n",
      "439\n",
      "440\n",
      "441\n",
      "442\n",
      "443\n",
      "444\n",
      "445\n",
      "446\n",
      "447\n",
      "448\n",
      "449\n",
      "450\n",
      "451\n",
      "452\n",
      "453\n",
      "454\n",
      "455\n",
      "456\n",
      "457\n",
      "458\n",
      "459\n",
      "460\n",
      "461\n",
      "462\n",
      "463\n",
      "464\n",
      "465\n",
      "466\n",
      "467\n",
      "468\n",
      "469\n",
      "470\n",
      "471\n",
      "472\n",
      "473\n",
      "474\n",
      "475\n",
      "476\n",
      "477\n",
      "478\n",
      "479\n",
      "480\n",
      "481\n",
      "482\n",
      "483\n",
      "484\n",
      "485\n",
      "486\n",
      "487\n",
      "488\n",
      "489\n",
      "490\n",
      "491\n",
      "492\n",
      "493\n",
      "494\n",
      "495\n",
      "496\n",
      "497\n",
      "498\n",
      "499\n",
      "500\n"
     ]
    },
    {
     "data": {
      "text/plain": [
       "[<matplotlib.lines.Line2D at 0x151a9e5898>]"
      ]
     },
     "execution_count": 257,
     "metadata": {},
     "output_type": "execute_result"
    },
    {
     "data": {
      "image/png": "[encoded data removed]",
      "text/plain": [
       "<Figure size 432x288 with 1 Axes>"
      ]
     },
     "metadata": {},
     "output_type": "display_data"
    }
   ],
   "source": [
    "x = np.linspace(0,1,num=501)\n",
    "y_2 = np.linspace(-0.2,0.2,num=501)\n",
    "for i in range(501):\n",
    "    print(i)\n",
    "    y_2[i] = bloch_projection_2(x[i],y_tt3/2/np.pi,0.002) \n",
    "plt.plot(x,y_2)"
   ]
  },
  {
   "cell_type": "code",
   "execution_count": 244,
   "metadata": {},
   "outputs": [
    {
     "data": {
      "text/plain": [
       "[<matplotlib.lines.Line2D at 0x151b071ef0>]"
      ]
     },
     "execution_count": 244,
     "metadata": {},
     "output_type": "execute_result"
    },
    {
     "data": {
      "image/png": "[encoded data removed]",
      "text/plain": [
       "<Figure size 432x288 with 1 Axes>"
      ]
     },
     "metadata": {},
     "output_type": "display_data"
    }
   ],
   "source": [
    "plt.plot(x,y_tt3/2/np.pi)"
   ]
  },
  {
   "cell_type": "code",
   "execution_count": 227,
   "metadata": {},
   "outputs": [
    {
     "data": {
      "text/plain": [
       "[<matplotlib.lines.Line2D at 0x151a446b00>]"
      ]
     },
     "execution_count": 227,
     "metadata": {},
     "output_type": "execute_result"
    },
    {
     "data": {
      "image/png": "[encoded data removed]",
      "text/plain": [
       "<Figure size 432x288 with 1 Axes>"
      ]
     },
     "metadata": {},
     "output_type": "display_data"
    }
   ],
   "source": [
    "plt.plot(uu)"
   ]
  },
  {
   "cell_type": "code",
   "execution_count": 201,
   "metadata": {
    "scrolled": true
   },
   "outputs": [
    {
     "data": {
      "text/plain": [
       "[<matplotlib.lines.Line2D at 0x151a224a90>]"
      ]
     },
     "execution_count": 201,
     "metadata": {},
     "output_type": "execute_result"
    },
    {
     "data": {
      "image/png": "[encoded data removed]",
      "text/plain": [
       "<Figure size 432x288 with 1 Axes>"
      ]
     },
     "metadata": {},
     "output_type": "display_data"
    }
   ],
   "source": [
    "plt.plot(x,-y_tt3*10e9/8000/2/np.pi/0.02)\n",
    "plt.plot(x,uutt[100:601])"
   ]
  },
  {
   "cell_type": "code",
   "execution_count": 129,
   "metadata": {},
   "outputs": [
    {
     "data": {
      "text/plain": [
       "array([-1.95583009e-08, -2.45248505e-08, -2.89752526e-08, -3.27503362e-08,\n",
       "       -3.76120820e-08, -5.70877081e-08, -7.15042575e-09,  4.33915167e-09,\n",
       "        1.02357334e-08,  1.55827761e-08,  2.09268857e-08,  2.60740906e-08,\n",
       "        3.06766295e-08,  3.45566145e-08,  3.94868926e-08,  5.91884068e-08,\n",
       "        6.82420050e-09, -5.21252289e-09, -1.13668140e-08, -1.69304245e-08,\n",
       "       -2.24822381e-08, -2.78224336e-08, -3.25858307e-08, -3.65724647e-08,\n",
       "       -4.15583926e-08, -6.14252388e-08, -6.37447188e-09,  6.26464166e-09,\n",
       "        1.26993013e-08,  1.84961823e-08,  2.42703340e-08,  2.98156311e-08,\n",
       "        3.47472070e-08,  3.88381211e-08,  4.38545301e-08,  6.37786886e-08,\n",
       "        5.72449810e-09, -7.57945321e-09, -1.43172633e-08, -2.03627615e-08,\n",
       "       -2.63715915e-08, -3.21303786e-08, -3.72307794e-08, -4.14100247e-08,\n",
       "       -4.63961474e-08, -6.61405575e-08, -4.65741593e-09,  9.37771581e-09,\n",
       "        1.64329383e-08,  2.27312579e-08,  2.89736511e-08,  3.49365069e-08,\n",
       "        4.01794497e-08,  4.43819452e-08,  4.91555877e-08,  6.80589542e-08,\n",
       "        2.43942492e-09, -1.23790167e-08, -1.97219904e-08, -2.62276206e-08,\n",
       "       -3.26454796e-08, -3.87308734e-08, -4.39851579e-08, -4.79604987e-08,\n",
       "       -5.18902530e-08, -6.77452832e-08,  3.64456126e-09,  1.92073190e-08,\n",
       "        2.66246646e-08,  3.30909358e-08,  3.93989885e-08,  4.52412226e-08,\n",
       "        4.99670222e-08,  5.27495694e-08,  5.34804327e-08,  5.81781534e-08,\n",
       "       -2.40353300e-08, -3.99053618e-08, -4.64501170e-08, -5.18350254e-08,\n",
       "       -5.68533332e-08, -6.09711194e-08, -6.30285697e-08, -6.08579742e-08,\n",
       "       -4.93076230e-08, -1.17189744e-08,  9.96113459e-08,  1.13749173e-07,\n",
       "        1.15576059e-07,  1.15700498e-07,  1.14722049e-07,  1.11237148e-07,\n",
       "        1.02180878e-07,  8.02814055e-08,  2.08359563e-08, -1.81074899e-07,\n",
       "       -3.92191490e-07, -3.96248779e-07, -3.78051164e-07, -3.56314896e-07,\n",
       "       -3.30655120e-07, -2.96250870e-07, -2.42607230e-07, -1.42437905e-07,\n",
       "        1.06070913e-07,  9.56906129e-07,  1.54851054e-06,  1.50943459e-06,\n",
       "        1.41035175e-06,  1.30064617e-06,  1.17581605e-06,  1.01746044e-06,\n",
       "        7.85567507e-07,  3.73142423e-07, -6.29552420e-07, -4.07527091e-06,\n",
       "       -6.18128871e-06, -5.96933746e-06, -5.54605812e-06, -5.08316580e-06,\n",
       "       -4.55971510e-06, -3.90280994e-06, -2.95364855e-06, -1.28376239e-06,\n",
       "        2.76131496e-06,  1.67157781e-05,  2.49915341e-05,  2.40985174e-05,\n",
       "        2.23694280e-05,  2.04777458e-05,  1.83376015e-05,  1.56548084e-05,\n",
       "        1.17857825e-05,  4.98663456e-06, -1.15046441e-05, -6.86919279e-05,\n",
       "       -1.02646296e-04, -9.90867365e-05, -9.20406629e-05, -8.42913802e-05,\n",
       "       -7.54973674e-05, -6.44510912e-05, -4.84934094e-05, -2.03910336e-05,\n",
       "        4.80170035e-05,  2.87027083e-04,  4.30896235e-04,  4.16988358e-04,\n",
       "        3.87935897e-04,  3.55685914e-04,  3.18893259e-04,  2.72488009e-04,\n",
       "        2.05193934e-04,  8.61768728e-05, -2.05291080e-04, -1.23559556e-03,\n",
       "       -1.87113930e-03, -1.81822588e-03, -1.69583984e-03, -1.55782159e-03,\n",
       "       -1.39893706e-03, -1.19710889e-03, -9.02441611e-04, -3.77326007e-04,\n",
       "        9.22251403e-04,  5.61076027e-03,  8.63085332e-03,  8.44848180e-03,\n",
       "        7.91454685e-03,  7.29336447e-03,  6.56541390e-03,  5.62737291e-03,\n",
       "        4.23872855e-03,  1.72471540e-03, -4.63764191e-03, -2.86413313e-02,\n",
       "       -4.56321374e-02, -4.54115037e-02, -4.29389199e-02, -3.97932366e-02,\n",
       "       -3.59109045e-02, -3.06863171e-02, -2.26035435e-02, -7.17186756e-03,\n",
       "        3.51933142e-02,  2.28359586e-01,  4.45938416e-01,  5.10759843e-01,\n",
       "        5.42859562e-01,  5.65846712e-01,  5.86683471e-01,  6.09575377e-01,\n",
       "        6.40114539e-01,  6.91990142e-01,  8.20772216e-01,  1.35219485e+00,\n",
       "        1.89378564e+00,  2.03199763e+00,  2.09093061e+00,  2.12782393e+00,\n",
       "        2.15741253e+00,  2.18645121e+00,  2.22133020e+00,  2.27503049e+00,\n",
       "        2.39663613e+00,  2.86137601e+00,  3.31896472e+00,  3.43405495e+00,\n",
       "        3.48296732e+00,  3.51360130e+00,  3.53822759e+00,  3.56248404e+00,\n",
       "        3.59175509e+00,  3.63707343e+00,  3.74035153e+00,  4.13726856e+00,\n",
       "        4.52807852e+00,  4.62565135e+00,  4.66666847e+00,  4.69204362e+00,\n",
       "        4.71217255e+00,  4.73171846e+00,  4.75494878e+00,  4.79033376e+00,\n",
       "        4.86957197e+00,  5.16865826e+00,  5.45926259e+00,  5.53063577e+00,\n",
       "        5.56013476e+00,  5.57806539e+00,  5.59202537e+00,  5.60531185e+00,\n",
       "        5.62076409e+00,  5.64375082e+00,  5.69389294e+00,  5.87784743e+00,\n",
       "        6.05234276e+00,  6.09370102e+00,  6.11010474e+00,  6.11962287e+00,\n",
       "        6.12664853e+00,  6.13293227e+00,  6.13972043e+00,  6.14895179e+00,\n",
       "        6.16693416e+00,  6.22410520e+00,  6.27121916e+00,  6.27986533e+00,\n",
       "        6.28210192e+00,  6.28258636e+00,  6.28222078e+00,  6.28109547e+00,\n",
       "        6.27878440e+00,  6.27367614e+00,  6.25838239e+00,  6.18531491e+00,\n",
       "        6.10225529e+00,  6.07768563e+00,  6.06562768e+00,  6.05705344e+00,\n",
       "        6.04932150e+00,  6.04085720e+00,  6.02958819e+00,  6.01045032e+00,\n",
       "        5.96280576e+00,  5.76392851e+00,  5.55576855e+00,  5.49950416e+00,\n",
       "        5.47390645e+00,  5.45681456e+00,  5.44220698e+00,  5.42694309e+00,\n",
       "        5.40743615e+00,  5.37549273e+00,  5.29854136e+00,  4.98648052e+00,\n",
       "        4.66626087e+00,  4.58174360e+00,  4.54413750e+00,  4.51953150e+00,\n",
       "        4.49889276e+00,  4.47770079e+00,  4.45105949e+00,  4.40810838e+00,\n",
       "        4.30618762e+00,  3.89885012e+00,  3.48568473e+00,  3.37831828e+00,\n",
       "        3.33126104e+00,  3.30090024e+00,  3.27576748e+00,  3.25027813e+00,\n",
       "        3.21860347e+00,  3.16808301e+00,  3.04934521e+00,  2.57794225e+00,\n",
       "        2.10010978e+00,  1.97556054e+00,  1.92080500e+00,  1.88540235e+00,\n",
       "        1.85606334e+00,  1.82630842e+00,  1.78938591e+00,  1.73070591e+00,\n",
       "        1.59388174e+00,  1.06189696e+00,  5.45359097e-01,  4.22789615e-01,\n",
       "        3.74724648e-01,  3.47319884e-01,  3.27558948e-01,  3.10417254e-01,\n",
       "        2.92634492e-01,  2.69747289e-01,  2.28469224e-01,  1.08777591e-01,\n",
       "        1.23715081e-02, -7.47526146e-03, -1.44462742e-02, -1.79902661e-02,\n",
       "       -2.02107260e-02, -2.17959892e-02, -2.29977448e-02, -2.37827938e-02,\n",
       "       -2.32268003e-02, -1.37697109e-02, -1.78372672e-03,  1.25201997e-03,\n",
       "        2.42434416e-03,  3.06055283e-03,  3.48284796e-03,  3.80367672e-03,\n",
       "        4.06868103e-03,  4.27975795e-03,  4.28917686e-03,  2.67890484e-03,\n",
       "        3.73470421e-04, -2.45595171e-04, -4.91792820e-04, -6.28268998e-04,\n",
       "       -7.20627634e-04, -7.92297388e-04, -8.53231304e-04, -9.04744569e-04,\n",
       "       -9.17682897e-04, -5.87534529e-04, -8.57702009e-05,  5.27875082e-05,\n",
       "        1.08681738e-04,  1.39987367e-04,  1.61374603e-04,  1.78146330e-04,\n",
       "        1.92612964e-04,  2.05199494e-04,  2.09571897e-04,  1.36042441e-04,\n",
       "        2.04400314e-05, -1.20135938e-05, -2.52123276e-05, -3.26452310e-05,\n",
       "       -3.77480220e-05, -4.17725719e-05, -4.52732689e-05, -4.83696744e-05,\n",
       "       -4.96038916e-05, -3.23997274e-05, -4.92987745e-06,  2.86903130e-06,\n",
       "        6.05466261e-06,  7.85078694e-06,  9.08436177e-06,  1.00589401e-05,\n",
       "        1.09106415e-05,  1.16710801e-05,  1.19868174e-05,  7.78137785e-06,\n",
       "        1.16222522e-06, -7.34895853e-07, -1.50944379e-06, -1.94269689e-06,\n",
       "       -2.23726681e-06, -2.46845763e-06, -2.67051160e-06, -2.85117840e-06,\n",
       "       -2.91704463e-06, -1.81236330e-06, -2.37698770e-07,  2.19543208e-07,\n",
       "        4.03698330e-07,  5.02640014e-07,  5.66558634e-07,  6.14762371e-07,\n",
       "        6.56276851e-07,  6.92586711e-07,  6.93614440e-07,  3.50086449e-07,\n",
       "        1.24744319e-08, -8.92745972e-08, -1.27503737e-07, -1.44008992e-07,\n",
       "       -1.51233566e-07, -1.54528775e-07, -1.56585938e-07, -1.57311951e-07,\n",
       "       -1.42831923e-07,  6.18256481e-09,  3.94445544e-08,  5.31077640e-08,\n",
       "        5.53363413e-08,  5.17921055e-08,  4.54622895e-08,  3.81523162e-08,\n",
       "        3.09281870e-08,  2.33419864e-08,  6.12943688e-09, -8.86411818e-08,\n",
       "       -4.86044804e-08, -4.07832175e-08, -3.44210671e-08, -2.63633865e-08,\n",
       "       -1.72025549e-08, -7.80877023e-09,  1.18969033e-09,  1.02855964e-08,\n",
       "        2.70898002e-08,  1.03388806e-07,  4.75834208e-08,  3.49498205e-08,\n",
       "        2.68414913e-08,  1.81162489e-08,  8.75181896e-09, -6.52654257e-10,\n",
       "       -9.60272713e-09, -1.85632964e-08, -3.43056021e-08, -1.01831197e-07,\n",
       "       -4.44774687e-08, -3.11855155e-08, -2.30146960e-08, -1.45373223e-08,\n",
       "       -5.57022481e-09,  3.38506422e-09,  1.18878654e-08,  2.03626275e-08,\n",
       "        3.50063350e-08,  9.67871553e-08,  4.12413634e-08,  2.82910817e-08,\n",
       "        2.04436551e-08,  1.23976539e-08,  3.92670545e-09, -4.51711616e-09,\n",
       "       -1.25241652e-08, -2.04802682e-08, -3.41239222e-08, -9.13952832e-08,\n",
       "       -3.82966751e-08, -2.58944166e-08, -1.84328449e-08, -1.08237153e-08,\n",
       "       -2.82905152e-09,  5.13298905e-09,  1.26760991e-08,  2.01519782e-08,\n",
       "        3.29097008e-08,  8.63664701e-08,  3.56922169e-08,  2.38483294e-08,\n",
       "        1.67579199e-08,  9.55228490e-09,  1.99104778e-09, -5.53497977e-09,\n",
       "       -1.26592561e-08, -1.97038494e-08, -3.16785511e-08, -8.18119019e-08,\n",
       "       -3.33947838e-08, -2.20749160e-08, -1.53256152e-08, -8.48541528e-09,\n",
       "       -1.31463814e-09,  5.81937291e-09,  1.25676008e-08,  1.92263251e-08,\n",
       "        3.05060090e-08,  7.77032873e-08,  3.13597757e-08,  2.05227442e-08,\n",
       "        1.40842223e-08,  7.57449019e-09,  7.55928174e-10, -6.02482472e-09,\n",
       "       -1.24345374e-08, -1.87469486e-08, -2.94062183e-08, -7.39873350e-08,\n",
       "       -2.95471874e-08, -1.91539866e-08, -1.29987973e-08, -6.78881841e-09,\n",
       "       -2.89191912e-10])"
      ]
     },
     "execution_count": 129,
     "metadata": {},
     "output_type": "execute_result"
    }
   ],
   "source": [
    "y"
   ]
  },
  {
   "cell_type": "code",
   "execution_count": 196,
   "metadata": {},
   "outputs": [],
   "source": [
    "uutt = np.loadtxt('./Documents/CFR/utt_eigen_test.csv',delimiter=',')"
   ]
  },
  {
   "cell_type": "code",
   "execution_count": 153,
   "metadata": {},
   "outputs": [
    {
     "data": {
      "text/plain": [
       "[<matplotlib.lines.Line2D at 0x1518854048>]"
      ]
     },
     "execution_count": 153,
     "metadata": {},
     "output_type": "execute_result"
    },
    {
     "data": {
      "image/png": "[encoded data removed]",
      "text/plain": [
       "<Figure size 432x288 with 1 Axes>"
      ]
     },
     "metadata": {},
     "output_type": "display_data"
    }
   ],
   "source": [
    "plt.plot(xtt,ytt/10e9*8000)\n",
    "plt.plot(x,-y_tt)"
   ]
  },
  {
   "cell_type": "code",
   "execution_count": 158,
   "metadata": {},
   "outputs": [
    {
     "data": {
      "text/plain": [
       "[<matplotlib.lines.Line2D at 0x1518c53ef0>]"
      ]
     },
     "execution_count": 158,
     "metadata": {},
     "output_type": "execute_result"
    },
    {
     "data": {
      "image/png": "[encoded data removed]",
      "text/plain": [
       "<Figure size 432x288 with 1 Axes>"
      ]
     },
     "metadata": {},
     "output_type": "display_data"
    }
   ],
   "source": [
    "plt.plot(xtt,uutt[100:599]*2*np.pi)"
   ]
  },
  {
   "cell_type": "code",
   "execution_count": 122,
   "metadata": {},
   "outputs": [
    {
     "ename": "IndexError",
     "evalue": "index 501 is out of bounds for axis 0 with size 501",
     "output_type": "error",
     "traceback": [
      "\u001b[0;31m---------------------------------------------------------------------------\u001b[0m",
      "\u001b[0;31mIndexError\u001b[0m                                Traceback (most recent call last)",
      "\u001b[0;32m<ipython-input-122-6025cc85d552>\u001b[0m in \u001b[0;36m<module>\u001b[0;34m()\u001b[0m\n\u001b[0;32m----> 1\u001b[0;31m \u001b[0mx\u001b[0m\u001b[0;34m[\u001b[0m\u001b[0;36m501\u001b[0m\u001b[0;34m]\u001b[0m\u001b[0;34m\u001b[0m\u001b[0m\n\u001b[0m",
      "\u001b[0;31mIndexError\u001b[0m: index 501 is out of bounds for axis 0 with size 501"
     ]
    }
   ],
   "source": [
    "x[501]"
   ]
  },
  {
   "cell_type": "code",
   "execution_count": 160,
   "metadata": {},
   "outputs": [
    {
     "name": "stdout",
     "output_type": "stream",
     "text": [
      "0\n"
     ]
    },
    {
     "name": "stderr",
     "output_type": "stream",
     "text": [
      "/Users/xiao/anaconda3/lib/python3.6/site-packages/scipy/integrate/quadpack.py:385: IntegrationWarning: The occurrence of roundoff error is detected, which prevents \n",
      "  the requested tolerance from being achieved.  The error may be \n",
      "  underestimated.\n",
      "  warnings.warn(msg, IntegrationWarning)\n"
     ]
    },
    {
     "name": "stdout",
     "output_type": "stream",
     "text": [
      "1\n",
      "2\n",
      "3\n",
      "4\n",
      "5\n",
      "6\n",
      "7\n",
      "8\n",
      "9\n",
      "10\n",
      "11\n",
      "12\n",
      "13\n",
      "14\n",
      "15\n",
      "16\n",
      "17\n",
      "18\n",
      "19\n",
      "20\n",
      "21\n",
      "22\n",
      "23\n",
      "24\n",
      "25\n",
      "26\n",
      "27\n",
      "28\n",
      "29\n",
      "30\n",
      "31\n",
      "32\n",
      "33\n",
      "34\n",
      "35\n",
      "36\n",
      "37\n",
      "38\n",
      "39\n",
      "40\n",
      "41\n",
      "42\n",
      "43\n",
      "44\n",
      "45\n",
      "46\n",
      "47\n",
      "48\n",
      "49\n",
      "50\n",
      "51\n",
      "52\n",
      "53\n",
      "54\n",
      "55\n",
      "56\n",
      "57\n",
      "58\n",
      "59\n",
      "60\n",
      "61\n",
      "62\n",
      "63\n",
      "64\n",
      "65\n",
      "66\n",
      "67\n",
      "68\n",
      "69\n",
      "70\n",
      "71\n",
      "72\n",
      "73\n",
      "74\n",
      "75\n",
      "76\n",
      "77\n",
      "78\n",
      "79\n",
      "80\n",
      "81\n",
      "82\n",
      "83\n",
      "84\n",
      "85\n",
      "86\n",
      "87\n",
      "88\n",
      "89\n",
      "90\n",
      "91\n",
      "92\n",
      "93\n",
      "94\n",
      "95\n",
      "96\n",
      "97\n",
      "98\n",
      "99\n",
      "100\n",
      "101\n",
      "102\n",
      "103\n",
      "104\n",
      "105\n",
      "106\n",
      "107\n",
      "108\n",
      "109\n",
      "110\n",
      "111\n",
      "112\n",
      "113\n",
      "114\n",
      "115\n",
      "116\n",
      "117\n",
      "118\n",
      "119\n",
      "120\n",
      "121\n",
      "122\n",
      "123\n",
      "124\n",
      "125\n",
      "126\n",
      "127\n",
      "128\n",
      "129\n",
      "130\n",
      "131\n",
      "132\n",
      "133\n",
      "134\n",
      "135\n",
      "136\n",
      "137\n",
      "138\n",
      "139\n",
      "140\n",
      "141\n",
      "142\n",
      "143\n",
      "144\n",
      "145\n",
      "146\n",
      "147\n",
      "148\n",
      "149\n",
      "150\n",
      "151\n",
      "152\n",
      "153\n",
      "154\n",
      "155\n",
      "156\n",
      "157\n",
      "158\n",
      "159\n",
      "160\n",
      "161\n",
      "162\n",
      "163\n",
      "164\n",
      "165\n",
      "166\n",
      "167\n",
      "168\n",
      "169\n",
      "170\n",
      "171\n",
      "172\n",
      "173\n",
      "174\n",
      "175\n",
      "176\n",
      "177\n",
      "178\n",
      "179\n",
      "180\n",
      "181\n",
      "182\n",
      "183\n",
      "184\n",
      "185\n",
      "186\n",
      "187\n",
      "188\n",
      "189\n",
      "190\n",
      "191\n",
      "192\n",
      "193\n",
      "194\n",
      "195\n",
      "196\n",
      "197\n",
      "198\n",
      "199\n",
      "200\n",
      "201\n",
      "202\n",
      "203\n",
      "204\n",
      "205\n",
      "206\n",
      "207\n",
      "208\n",
      "209\n",
      "210\n",
      "211\n",
      "212\n",
      "213\n",
      "214\n",
      "215\n",
      "216\n",
      "217\n",
      "218\n",
      "219\n",
      "220\n",
      "221\n",
      "222\n",
      "223\n",
      "224\n",
      "225\n",
      "226\n",
      "227\n",
      "228\n",
      "229\n",
      "230\n",
      "231\n",
      "232\n",
      "233\n",
      "234\n",
      "235\n",
      "236\n",
      "237\n",
      "238\n",
      "239\n",
      "240\n",
      "241\n",
      "242\n",
      "243\n",
      "244\n",
      "245\n",
      "246\n",
      "247\n",
      "248\n",
      "249\n",
      "250\n",
      "251\n",
      "252\n",
      "253\n",
      "254\n",
      "255\n",
      "256\n",
      "257\n",
      "258\n",
      "259\n",
      "260\n",
      "261\n",
      "262\n",
      "263\n",
      "264\n",
      "265\n",
      "266\n",
      "267\n",
      "268\n",
      "269\n",
      "270\n",
      "271\n",
      "272\n",
      "273\n",
      "274\n",
      "275\n",
      "276\n",
      "277\n",
      "278\n",
      "279\n",
      "280\n",
      "281\n",
      "282\n",
      "283\n",
      "284\n",
      "285\n",
      "286\n",
      "287\n",
      "288\n",
      "289\n",
      "290\n",
      "291\n",
      "292\n",
      "293\n",
      "294\n",
      "295\n",
      "296\n",
      "297\n",
      "298\n",
      "299\n",
      "300\n",
      "301\n",
      "302\n",
      "303\n",
      "304\n",
      "305\n",
      "306\n",
      "307\n",
      "308\n",
      "309\n",
      "310\n",
      "311\n",
      "312\n",
      "313\n",
      "314\n",
      "315\n",
      "316\n",
      "317\n",
      "318\n",
      "319\n",
      "320\n",
      "321\n",
      "322\n",
      "323\n",
      "324\n",
      "325\n",
      "326\n",
      "327\n",
      "328\n",
      "329\n",
      "330\n",
      "331\n",
      "332\n",
      "333\n",
      "334\n",
      "335\n",
      "336\n",
      "337\n",
      "338\n",
      "339\n",
      "340\n",
      "341\n",
      "342\n",
      "343\n",
      "344\n",
      "345\n",
      "346\n",
      "347\n",
      "348\n",
      "349\n",
      "350\n",
      "351\n",
      "352\n",
      "353\n",
      "354\n",
      "355\n",
      "356\n",
      "357\n",
      "358\n",
      "359\n",
      "360\n",
      "361\n",
      "362\n",
      "363\n",
      "364\n",
      "365\n",
      "366\n",
      "367\n",
      "368\n",
      "369\n",
      "370\n",
      "371\n",
      "372\n",
      "373\n",
      "374\n",
      "375\n",
      "376\n",
      "377\n",
      "378\n",
      "379\n",
      "380\n",
      "381\n",
      "382\n",
      "383\n",
      "384\n",
      "385\n",
      "386\n",
      "387\n",
      "388\n",
      "389\n",
      "390\n",
      "391\n",
      "392\n",
      "393\n",
      "394\n",
      "395\n",
      "396\n",
      "397\n",
      "398\n",
      "399\n",
      "400\n",
      "401\n",
      "402\n",
      "403\n",
      "404\n",
      "405\n",
      "406\n",
      "407\n",
      "408\n",
      "409\n",
      "410\n",
      "411\n",
      "412\n",
      "413\n",
      "414\n",
      "415\n",
      "416\n",
      "417\n",
      "418\n",
      "419\n",
      "420\n",
      "421\n",
      "422\n",
      "423\n",
      "424\n",
      "425\n",
      "426\n",
      "427\n",
      "428\n",
      "429\n",
      "430\n",
      "431\n",
      "432\n",
      "433\n",
      "434\n",
      "435\n",
      "436\n",
      "437\n",
      "438\n",
      "439\n",
      "440\n",
      "441\n",
      "442\n",
      "443\n",
      "444\n",
      "445\n",
      "446\n",
      "447\n",
      "448\n",
      "449\n",
      "450\n",
      "451\n",
      "452\n",
      "453\n",
      "454\n",
      "455\n",
      "456\n",
      "457\n",
      "458\n",
      "459\n",
      "460\n",
      "461\n",
      "462\n",
      "463\n",
      "464\n",
      "465\n",
      "466\n",
      "467\n",
      "468\n",
      "469\n",
      "470\n",
      "471\n",
      "472\n",
      "473\n",
      "474\n",
      "475\n",
      "476\n",
      "477\n",
      "478\n",
      "479\n",
      "480\n",
      "481\n",
      "482\n",
      "483\n",
      "484\n",
      "485\n",
      "486\n",
      "487\n",
      "488\n",
      "489\n",
      "490\n",
      "491\n",
      "492\n",
      "493\n",
      "494\n",
      "495\n",
      "496\n",
      "497\n",
      "498\n"
     ]
    },
    {
     "data": {
      "text/plain": [
       "[<matplotlib.lines.Line2D at 0x1517f33978>]"
      ]
     },
     "execution_count": 160,
     "metadata": {},
     "output_type": "execute_result"
    },
    {
     "data": {
      "image/png": "[encoded data removed]",
      "text/plain": [
       "<Figure size 432x288 with 1 Axes>"
      ]
     },
     "metadata": {},
     "output_type": "display_data"
    }
   ],
   "source": [
    "xtt = np.linspace(0,1,num=499)\n",
    "ytt2 = np.linspace(-0.2,0.2,num=499)\n",
    "for i in range(499):\n",
    "    print(i)\n",
    "    ytt2[i] = bloch_projection_1(xtt[i],uutt[100:599],0.002)\n",
    "plt.plot(xtt,ytt2)"
   ]
  },
  {
   "cell_type": "code",
   "execution_count": 164,
   "metadata": {},
   "outputs": [
    {
     "data": {
      "text/plain": [
       "[<matplotlib.lines.Line2D at 0x1518dd29e8>]"
      ]
     },
     "execution_count": 164,
     "metadata": {},
     "output_type": "execute_result"
    },
    {
     "data": {
      "image/png": "[encoded data removed]",
      "text/plain": [
       "<Figure size 432x288 with 1 Axes>"
      ]
     },
     "metadata": {},
     "output_type": "display_data"
    }
   ],
   "source": [
    "plt.plot(xtt,ytt2/2/np.pi)\n",
    "plt.plot(xtt,uutt[100:599])"
   ]
  },
  {
   "cell_type": "code",
   "execution_count": 21,
   "metadata": {},
   "outputs": [
    {
     "data": {
      "text/plain": [
       "0.9999999999999997"
      ]
     },
     "execution_count": 21,
     "metadata": {},
     "output_type": "execute_result"
    }
   ],
   "source": [
    "coeff = eigen[1][:,np.argmin(eigen[0])]\n",
    "np.sum(coeff**2)"
   ]
  },
  {
   "cell_type": "code",
   "execution_count": 21,
   "metadata": {},
   "outputs": [
    {
     "data": {
      "text/plain": [
       "(-1.0708866745323284+0j)"
      ]
     },
     "execution_count": 21,
     "metadata": {},
     "output_type": "execute_result"
    }
   ],
   "source": [
    "test_eigenfunc(0,coeff,20)"
   ]
  },
  {
   "cell_type": "code",
   "execution_count": 22,
   "metadata": {},
   "outputs": [],
   "source": [
    "def myfunc_cal(x,this_x):\n",
    "    return integrate.quad(myfunctoint_cal,-1/2/epsilon,1/2/epsilon,args=(x,this_x))[0]"
   ]
  },
  {
   "cell_type": "code",
   "execution_count": 42,
   "metadata": {
    "scrolled": true
   },
   "outputs": [
    {
     "data": {
      "text/plain": [
       "[<matplotlib.lines.Line2D at 0x1514ebfd68>]"
      ]
     },
     "execution_count": 42,
     "metadata": {},
     "output_type": "execute_result"
    },
    {
     "data": {
      "image/png": "[encoded data removed]",
      "text/plain": [
       "<Figure size 432x288 with 1 Axes>"
      ]
     },
     "metadata": {},
     "output_type": "display_data"
    }
   ],
   "source": [
    "x = np.linspace(-0.2,0.2,num=400)\n",
    "y = np.linspace(-0.2,0.2,num=400)\n",
    "for i in range(400):\n",
    "    y[i] = myfunc_cal_12(x[i],0)\n",
    "plt.plot(x,y)\n",
    "x = np.linspace(-0.2,0.2,num=400)\n",
    "y = np.linspace(-0.2,0.2,num=400)\n",
    "for i in range(400):\n",
    "    y[i] = myfunc_cal_12(x[i],0)\n",
    "plt.plot(x,y)\n",
    "x = np.linspace(-0.2,0.2,num=400)\n",
    "y = np.linspace(-0.2,0.2,num=400)\n",
    "for i in range(400):\n",
    "    y[i] = myfunc_cal_123(x[i],0)\n",
    "plt.plot(x,y)"
   ]
  },
  {
   "cell_type": "code",
   "execution_count": 270,
   "metadata": {},
   "outputs": [
    {
     "name": "stderr",
     "output_type": "stream",
     "text": [
      "/Users/xiao/anaconda3/lib/python3.6/site-packages/scipy/integrate/quadpack.py:385: IntegrationWarning: The occurrence of roundoff error is detected, which prevents \n",
      "  the requested tolerance from being achieved.  The error may be \n",
      "  underestimated.\n",
      "  warnings.warn(msg, IntegrationWarning)\n"
     ]
    },
    {
     "data": {
      "text/plain": [
       "[<matplotlib.lines.Line2D at 0x151bb11c18>]"
      ]
     },
     "execution_count": 270,
     "metadata": {},
     "output_type": "execute_result"
    },
    {
     "data": {
      "image/png": "[encoded data removed]",
      "text/plain": [
       "<Figure size 432x288 with 1 Axes>"
      ]
     },
     "metadata": {},
     "output_type": "display_data"
    }
   ],
   "source": [
    "x2 = np.linspace(-0.2,-0.19,num=200)\n",
    "y2 = np.linspace(-0.2,0.2,num=200)\n",
    "for i in range(200):\n",
    "    y2[i] = myfunc_cal(x2[i],0)\n",
    "plt.plot(x2,y2)"
   ]
  },
  {
   "cell_type": "code",
   "execution_count": 268,
   "metadata": {},
   "outputs": [
    {
     "name": "stderr",
     "output_type": "stream",
     "text": [
      "/Users/xiao/anaconda3/lib/python3.6/site-packages/scipy/integrate/quadpack.py:385: IntegrationWarning: The occurrence of roundoff error is detected, which prevents \n",
      "  the requested tolerance from being achieved.  The error may be \n",
      "  underestimated.\n",
      "  warnings.warn(msg, IntegrationWarning)\n"
     ]
    },
    {
     "data": {
      "text/plain": [
       "[<matplotlib.lines.Line2D at 0x151b8fb7b8>]"
      ]
     },
     "execution_count": 268,
     "metadata": {},
     "output_type": "execute_result"
    },
    {
     "data": {
      "image/png": "[encoded data removed]",
      "text/plain": [
       "<Figure size 432x288 with 1 Axes>"
      ]
     },
     "metadata": {},
     "output_type": "display_data"
    }
   ],
   "source": [
    "x2 = np.linspace(-0.2,-0.05,num=200)\n",
    "y2 = np.linspace(-0.2,0.2,num=200)\n",
    "for i in range(200):\n",
    "    y2[i] = myfunc_cal(x2[i],0)\n",
    "plt.plot(x2,y2)"
   ]
  },
  {
   "cell_type": "code",
   "execution_count": 265,
   "metadata": {},
   "outputs": [
    {
     "name": "stderr",
     "output_type": "stream",
     "text": [
      "/Users/xiao/anaconda3/lib/python3.6/site-packages/scipy/integrate/quadpack.py:385: IntegrationWarning: The occurrence of roundoff error is detected, which prevents \n",
      "  the requested tolerance from being achieved.  The error may be \n",
      "  underestimated.\n",
      "  warnings.warn(msg, IntegrationWarning)\n"
     ]
    },
    {
     "data": {
      "text/plain": [
       "[<matplotlib.lines.Line2D at 0x151b6b3518>]"
      ]
     },
     "execution_count": 265,
     "metadata": {},
     "output_type": "execute_result"
    },
    {
     "data": {
      "image/png": "[encoded data removed]",
      "text/plain": [
       "<Figure size 432x288 with 1 Axes>"
      ]
     },
     "metadata": {},
     "output_type": "display_data"
    }
   ],
   "source": [
    "x2 = np.linspace(-0.2,0.2,num=200)\n",
    "y2 = np.linspace(-0.2,0.2,num=200)\n",
    "for i in range(200):\n",
    "    y2[i] = myfunc_cal(x2[i],0)\n",
    "plt.plot(x2,y2)"
   ]
  },
  {
   "cell_type": "code",
   "execution_count": 70,
   "metadata": {},
   "outputs": [
    {
     "data": {
      "text/plain": [
       "array([-22800335.64471615,   3595941.95429391,  -2422044.60300903,\n",
       "          910622.61884932,   -869459.05770758,    405624.2737897 ,\n",
       "         -443260.80099653,    228339.31393388,   -268061.14229596,\n",
       "          146188.95909866])"
      ]
     },
     "execution_count": 70,
     "metadata": {},
     "output_type": "execute_result"
    }
   ],
   "source": [
    "horizon = 10\n",
    "kernel = np.zeros(horizon)\n",
    "dx = l\n",
    "for i in range(horizon):\n",
    "    kernel[i] = integrate.quad(myfunc_cal_m,dx/2+dx*i,dx*3/2+dx*i,args=(0,20))[0]\n",
    "kernel"
   ]
  },
  {
   "cell_type": "code",
   "execution_count": 260,
   "metadata": {},
   "outputs": [
    {
     "name": "stdout",
     "output_type": "stream",
     "text": [
      "0\n"
     ]
    },
    {
     "name": "stderr",
     "output_type": "stream",
     "text": [
      "/Users/xiao/anaconda3/lib/python3.6/site-packages/scipy/integrate/quadpack.py:385: IntegrationWarning: The occurrence of roundoff error is detected, which prevents \n",
      "  the requested tolerance from being achieved.  The error may be \n",
      "  underestimated.\n",
      "  warnings.warn(msg, IntegrationWarning)\n"
     ]
    },
    {
     "name": "stdout",
     "output_type": "stream",
     "text": [
      "1\n",
      "2\n",
      "3\n",
      "4\n",
      "5\n",
      "6\n",
      "7\n",
      "8\n",
      "9\n",
      "10\n",
      "11\n",
      "12\n",
      "13\n",
      "14\n",
      "15\n",
      "16\n",
      "17\n",
      "18\n",
      "19\n"
     ]
    }
   ],
   "source": [
    "horizon = 200\n",
    "\n",
    "dx = l/20\n",
    "kernel_plus = np.zeros((20,horizon))\n",
    "kernel_minus = np.zeros((20,horizon))\n",
    "\n",
    "for k in range(20):\n",
    "    print(k)\n",
    "    this_x = k/20*l\n",
    "    for i in range(horizon):\n",
    "        kernel_plus[k,i] = integrate.quad(myfunc_cal,dx/2+dx*i,dx*3/2+dx*i,args=this_x)[0]\n",
    "        kernel_minus[k,i] = integrate.quad(myfunc_cal,-dx/2-dx*i,-dx*3/2-dx*i,args=this_x)[0]"
   ]
  },
  {
   "cell_type": "code",
   "execution_count": 261,
   "metadata": {},
   "outputs": [],
   "source": [
    "np.savetxt('./Documents/CFR/twoD_kernel_plus_200.csv',kernel_plus, delimiter=',')\n",
    "np.savetxt('./Documents/CFR/twoD_kernel_minus_200.csv',kernel_minus, delimiter=',')"
   ]
  },
  {
   "cell_type": "code",
   "execution_count": 258,
   "metadata": {},
   "outputs": [
    {
     "name": "stdout",
     "output_type": "stream",
     "text": [
      "0\n",
      "1\n",
      "2\n",
      "3\n"
     ]
    },
    {
     "name": "stderr",
     "output_type": "stream",
     "text": [
      "/Users/xiao/anaconda3/lib/python3.6/site-packages/scipy/integrate/quadpack.py:385: IntegrationWarning: The occurrence of roundoff error is detected, which prevents \n",
      "  the requested tolerance from being achieved.  The error may be \n",
      "  underestimated.\n",
      "  warnings.warn(msg, IntegrationWarning)\n"
     ]
    },
    {
     "name": "stdout",
     "output_type": "stream",
     "text": [
      "4\n",
      "5\n",
      "6\n",
      "7\n",
      "8\n",
      "9\n"
     ]
    }
   ],
   "source": [
    "horizon = 400\n",
    "\n",
    "dx = l/10\n",
    "kernel_plus_2 = np.zeros((10,horizon))\n",
    "kernel_minus_2 = np.zeros((10,horizon))\n",
    "\n",
    "for k in range(10):\n",
    "    print(k)\n",
    "    this_x = k/10*l\n",
    "    for i in range(horizon):\n",
    "        kernel_plus_2[k,i] = integrate.quad(myfunc_cal_12,dx/2+dx*i,dx*3/2+dx*i,args=this_x)[0]\n",
    "        kernel_minus_2[k,i] = integrate.quad(myfunc_cal_12,-dx/2-dx*i,-dx*3/2-dx*i,args=this_x)[0]"
   ]
  },
  {
   "cell_type": "code",
   "execution_count": 94,
   "metadata": {},
   "outputs": [
    {
     "data": {
      "text/plain": [
       "(100,)"
      ]
     },
     "execution_count": 94,
     "metadata": {},
     "output_type": "execute_result"
    }
   ],
   "source": [
    "kernel.shape"
   ]
  },
  {
   "cell_type": "code",
   "execution_count": 78,
   "metadata": {},
   "outputs": [
    {
     "name": "stderr",
     "output_type": "stream",
     "text": [
      "/Users/xiao/anaconda3/lib/python3.6/site-packages/scipy/integrate/quadpack.py:385: IntegrationWarning: The occurrence of roundoff error is detected, which prevents \n",
      "  the requested tolerance from being achieved.  The error may be \n",
      "  underestimated.\n",
      "  warnings.warn(msg, IntegrationWarning)\n"
     ]
    },
    {
     "data": {
      "text/plain": [
       "array([ 1.87188680e+05,  1.25511671e+05,  4.06765256e+04, -4.58179944e+04,\n",
       "       -1.13044340e+05, -1.46377726e+05, -1.41193419e+05, -1.03505632e+05,\n",
       "       -4.74905585e+04,  9.20938848e+03,  5.08631937e+04,  6.80412663e+04,\n",
       "        5.97466747e+04,  3.27961384e+04, -1.14654260e+03, -2.97669289e+04,\n",
       "       -4.40949374e+04, -4.10353726e+04, -2.37393155e+04,  1.19876611e+02,\n",
       "        2.14157886e+04,  3.28428513e+04,  3.12725885e+04,  1.84651516e+04,\n",
       "        2.40638136e+01, -1.69064920e+04, -2.63039439e+04, -2.53296984e+04,\n",
       "       -1.51082355e+04, -3.67669641e+01,  1.40294802e+04,  2.19945894e+04,\n",
       "        2.13218512e+04,  1.27952849e+04,  3.09764126e+01, -1.20117423e+04,\n",
       "       -1.89226587e+04, -1.84268697e+04, -1.11040743e+04, -2.44218110e+01,\n",
       "        1.05102917e+04,  1.66145042e+04,  1.62327958e+04,  9.81203072e+03,\n",
       "        1.93631355e+01, -9.34650297e+03, -1.48135650e+04, -1.45101864e+04,\n",
       "       -8.79173016e+03, -1.56457466e+01,  8.41680120e+03,  1.33677550e+04,\n",
       "        1.31206537e+04,  7.96502966e+03,  1.28883966e+01, -7.65647935e+03,\n",
       "       -1.21807506e+04, -1.19755079e+04, -7.28128567e+03, -1.07987351e+01,\n",
       "        7.02284481e+03,  1.11883942e+04,  1.10151571e+04,  6.70618863e+03,\n",
       "        9.17976604e+00, -6.48652098e+03, -1.03462221e+04, -1.01980186e+04,\n",
       "       -6.21564216e+03, -7.90034222e+00,  6.02660226e+03,  9.62241104e+03,\n",
       "        9.49416378e+03,  5.79221150e+03,  6.87164290e+00, -5.62779285e+03,\n",
       "       -8.99356651e+03, -8.88148825e+03, -5.42296249e+03, -6.03205640e+00,\n",
       "        5.27863694e+03,  8.44209658e+03,  8.34330373e+03,  5.09809313e+03,\n",
       "        5.33781291e+00, -4.97038130e+03, -7.95451293e+03, -7.86677056e+03,\n",
       "       -4.81003710e+03, -4.75713127e+00,  4.69622076e+03,  7.52029733e+03,\n",
       "        7.44184615e+03,  4.55285934e+03,  4.26648079e+00, -4.45078366e+03,\n",
       "       -7.13112509e+03, -7.06056108e+03, -4.32183799e+03, -3.84813470e+00])"
      ]
     },
     "execution_count": 78,
     "metadata": {},
     "output_type": "execute_result"
    }
   ],
   "source": [
    "horizon = 100\n",
    "kernel = np.zeros(horizon)\n",
    "dx = l/5\n",
    "for i in range(horizon):\n",
    "    kernel[i] = integrate.quad(myfunc_cal,dx/2+dx*i,dx*3/2+dx*i,args=0.01)[0]\n",
    "kernel"
   ]
  },
  {
   "cell_type": "code",
   "execution_count": 82,
   "metadata": {},
   "outputs": [
    {
     "data": {
      "text/plain": [
       "242333.09758381956"
      ]
     },
     "execution_count": 82,
     "metadata": {},
     "output_type": "execute_result"
    }
   ],
   "source": [
    "dx = l/5\n",
    "i = -1\n",
    "integrate.quad(myfunc_cal,dx/2+dx*i,dx*3/2+dx*i,args=0)[0]"
   ]
  },
  {
   "cell_type": "code",
   "execution_count": 72,
   "metadata": {},
   "outputs": [
    {
     "name": "stderr",
     "output_type": "stream",
     "text": [
      "/Users/xiao/anaconda3/lib/python3.6/site-packages/scipy/integrate/quadpack.py:385: IntegrationWarning: The occurrence of roundoff error is detected, which prevents \n",
      "  the requested tolerance from being achieved.  The error may be \n",
      "  underestimated.\n",
      "  warnings.warn(msg, IntegrationWarning)\n"
     ]
    },
    {
     "data": {
      "text/plain": [
       "array([-405756.95390134,  -22882.34163382,   17534.40404965,\n",
       "        -10396.17161945,    6551.36806854,   -4450.63122424,\n",
       "          3213.7114337 ,   -2430.56998166,    1904.12166854,\n",
       "         -1533.00608139])"
      ]
     },
     "execution_count": 72,
     "metadata": {},
     "output_type": "execute_result"
    }
   ],
   "source": [
    "horizon = 10\n",
    "kernel = np.zeros(horizon)\n",
    "dx = l\n",
    "for i in range(horizon):\n",
    "    kernel[i] = integrate.quad(myfunc_cal,dx/2+dx*i,dx*3/2+dx*i,args=0)[0]\n",
    "kernel"
   ]
  },
  {
   "cell_type": "code",
   "execution_count": 134,
   "metadata": {},
   "outputs": [
    {
     "data": {
      "text/plain": [
       "array([-18.76998565, -13.13564862,  -5.39882919,   2.49957059,\n",
       "         8.72978999,  12.0857835 ,  12.26691764,   9.85480116,\n",
       "         6.02089304,   2.08946405,  -0.88260076,  -2.3721271 ,\n",
       "        -2.43612081,  -1.55877902,  -0.38708424,   0.5312679 ,\n",
       "         0.91433571,   0.77587472,   0.33706856,  -0.11982555])"
      ]
     },
     "execution_count": 134,
     "metadata": {},
     "output_type": "execute_result"
    }
   ],
   "source": [
    "-kernel"
   ]
  },
  {
   "cell_type": "code",
   "execution_count": 147,
   "metadata": {},
   "outputs": [
    {
     "data": {
      "text/plain": [
       "0.003183098861837907"
      ]
     },
     "execution_count": 147,
     "metadata": {},
     "output_type": "execute_result"
    }
   ],
   "source": [
    "epsilon"
   ]
  },
  {
   "cell_type": "code",
   "execution_count": 83,
   "metadata": {},
   "outputs": [
    {
     "data": {
      "text/plain": [
       "(-0.11231780185503593+0j)"
      ]
     },
     "execution_count": 83,
     "metadata": {},
     "output_type": "execute_result"
    }
   ],
   "source": [
    "test_eigenfunc(0,coeff)"
   ]
  },
  {
   "cell_type": "code",
   "execution_count": 19,
   "metadata": {},
   "outputs": [],
   "source": [
    "astar = 0.5385\n",
    "alpha = -0.5853*epsilon**2"
   ]
  },
  {
   "cell_type": "code",
   "execution_count": 20,
   "metadata": {},
   "outputs": [
    {
     "data": {
      "text/plain": [
       "[<matplotlib.lines.Line2D at 0x15156384e0>]"
      ]
     },
     "execution_count": 20,
     "metadata": {},
     "output_type": "execute_result"
    },
    {
     "data": {
      "image/png": "[encoded data removed]",
      "text/plain": [
       "<Figure size 432x288 with 1 Axes>"
      ]
     },
     "metadata": {},
     "output_type": "display_data"
    }
   ],
   "source": [
    "number = 100\n",
    "scale_test = 1\n",
    "k = np.linspace(-0.5/epsilon*scale_test,0.5/epsilon*scale_test,num = number)\n",
    "lamda_cal = np.linspace(-0.5/epsilon,0.5/epsilon,num = number)\n",
    "lamda_paper = np.linspace(-0.5/epsilon,0.5/epsilon,num = number)\n",
    "\n",
    "for i in range(number):\n",
    "    eigen = np.linalg.eig(A_operator(k[i],10))[0]\n",
    "    lamda_cal[i] = np.sort(eigen)[0]\n",
    "    lamda_paper[i] = (astar*k[i]**2+alpha*k[i]**4)\n",
    "    \n",
    "plt.plot(k,lamda_cal)\n",
    "plt.plot(k,lamda_paper)"
   ]
  },
  {
   "cell_type": "code",
   "execution_count": 103,
   "metadata": {},
   "outputs": [],
   "source": [
    "def fourier_toint(k,n):\n",
    "    eigen = np.linalg.eig(A_operator(k,10))[0]\n",
    "    lamda_cal = np.sort(eigen)[0]\n",
    "    return np.cos(l*k*n)*lamda_cal"
   ]
  },
  {
   "cell_type": "code",
   "execution_count": 165,
   "metadata": {},
   "outputs": [
    {
     "data": {
      "text/plain": [
       "array([ 1.05896451e+06, -5.72956085e+05,  4.94230264e+04, -6.94881672e+03,\n",
       "        1.18789352e+03, -2.26802887e+02,  4.71940905e+01, -1.09685832e+01,\n",
       "        3.14885484e+00, -1.29489399e+00])"
      ]
     },
     "execution_count": 165,
     "metadata": {},
     "output_type": "execute_result"
    }
   ],
   "source": [
    "horizon = 10\n",
    "kernel = np.zeros(10)\n",
    "for i in range(10):\n",
    "    kernel[i] = integrate.quad(fourier_toint,-0.5/epsilon,0.5/epsilon,args=i)[0]\n",
    "kernel"
   ]
  },
  {
   "cell_type": "code",
   "execution_count": 28,
   "metadata": {},
   "outputs": [
    {
     "name": "stderr",
     "output_type": "stream",
     "text": [
      "/Users/xiao/anaconda3/lib/python3.6/site-packages/scipy/integrate/quadpack.py:385: IntegrationWarning: The occurrence of roundoff error is detected, which prevents \n",
      "  the requested tolerance from being achieved.  The error may be \n",
      "  underestimated.\n",
      "  warnings.warn(msg, IntegrationWarning)\n"
     ]
    },
    {
     "data": {
      "text/plain": [
       "array([-5.72528387e+05,  4.93376170e+04, -6.92537729e+03,  1.17952950e+03,\n",
       "       -2.22932806e+02,  4.49670405e+01, -9.48337308e+00,  2.06610587e+00,\n",
       "       -4.61579676e-01,  1.05320380e-01])"
      ]
     },
     "execution_count": 28,
     "metadata": {},
     "output_type": "execute_result"
    }
   ],
   "source": [
    "horizon = 10\n",
    "kernel = np.zeros(10)\n",
    "for i in range(10):\n",
    "    kernel[i] = integrate.quad(myfunctoint_cal_test,-0.5/epsilon,0.5/epsilon,args=((i+1)*l,))[0]\n",
    "kernel*0.02"
   ]
  },
  {
   "cell_type": "code",
   "execution_count": 65,
   "metadata": {},
   "outputs": [
    {
     "data": {
      "text/plain": [
       "array([ 1.96665634e-05, -4.68334033e-05,  8.83338286e-05, -1.56144188e-04,\n",
       "        2.72651308e-04, -4.82673409e-04,  8.84381862e-04, -1.72398808e-03,\n",
       "        3.78029254e-03, -1.11041589e-02, -9.99862369e-01,  1.07561418e-02,\n",
       "       -3.72056374e-03,  1.70577416e-03, -8.77362466e-04,  4.79605073e-04,\n",
       "       -2.71205667e-04,  1.55434038e-04, -8.79820770e-05,  4.66675359e-05,\n",
       "       -1.96038435e-05])"
      ]
     },
     "execution_count": 65,
     "metadata": {},
     "output_type": "execute_result"
    }
   ],
   "source": [
    "eigen = np.linalg.eig(A_operator(5,10))\n",
    "lamda_cal = np.min(eigen[0])\n",
    "coeff = eigen[1][:,np.argmin(eigen[0])]\n",
    "coeff"
   ]
  },
  {
   "cell_type": "code",
   "execution_count": 73,
   "metadata": {},
   "outputs": [
    {
     "data": {
      "text/plain": [
       "array([ 9.99933128e-01, -1.07614387e-02,  3.72481100e-03, -1.70996679e-03,\n",
       "        8.81952847e-04, -4.84951988e-04,  2.77691652e-04, -1.63527710e-04,\n",
       "        9.82937756e-05, -6.00146827e-05,  3.70965338e-05, -2.31576046e-05,\n",
       "        1.45715972e-05, -9.22658963e-06,  5.86831110e-06, -3.73981888e-06,\n",
       "        2.37801983e-06, -1.49603183e-06,  9.13810168e-07, -5.16502028e-07,\n",
       "        2.28992247e-07])"
      ]
     },
     "execution_count": 73,
     "metadata": {},
     "output_type": "execute_result"
    }
   ],
   "source": [
    "eigen = np.linalg.eig(A_operator(5+1/epsilon*10,10))\n",
    "lamda_cal = np.min(eigen[0])\n",
    "coeff = eigen[1][:,np.argmin(eigen[0])]\n",
    "coeff"
   ]
  },
  {
   "cell_type": "code",
   "execution_count": 32,
   "metadata": {},
   "outputs": [
    {
     "data": {
      "text/plain": [
       "0.9999999999999999"
      ]
     },
     "execution_count": 32,
     "metadata": {},
     "output_type": "execute_result"
    }
   ],
   "source": [
    "np.sum(coeff**2)"
   ]
  },
  {
   "cell_type": "code",
   "execution_count": 21,
   "metadata": {},
   "outputs": [],
   "source": [
    "def lambda_over_alpha(k,n):\n",
    "    \n",
    "    index_k = int(np.floor(k*epsilon+0.5))\n",
    "    this_k = k-index_k/epsilon\n",
    "    eigen = np.linalg.eig(A_operator(this_k,n))\n",
    "    lamda_cal = np.min(eigen[0])\n",
    "    coeff = eigen[1][:,np.argmin(eigen[0])]\n",
    "    \n",
    "    \n",
    "    if abs(index_k)>n:\n",
    "        return 0\n",
    "    else:\n",
    "        this_alphan = coeff[index_k+n]\n",
    "\n",
    "        return lamda_cal/this_alphan**2\n",
    "    \n",
    "    \n",
    "    "
   ]
  },
  {
   "cell_type": "code",
   "execution_count": null,
   "metadata": {},
   "outputs": [],
   "source": [
    "def lambda_times_alpha(k,n):\n",
    "    \n",
    "    index_k = int(np.floor(k*epsilon+0.5))\n",
    "    this_k = k-index_k/epsilon\n",
    "    eigen = np.linalg.eig(A_operator(this_k,n))\n",
    "    lamda_cal = np.min(eigen[0])\n",
    "    coeff = eigen[1][:,np.argmin(eigen[0])]\n",
    "    \n",
    "    \n",
    "    if abs(index_k)>n:\n",
    "        return 0\n",
    "    else:\n",
    "        this_alphan = coeff[index_k+n]\n",
    "\n",
    "        return lamda_cal*this_alphan**2\n",
    "    \n",
    "    \n",
    "    "
   ]
  },
  {
   "cell_type": "code",
   "execution_count": 22,
   "metadata": {},
   "outputs": [],
   "source": [
    "def lambda_over_alpha_toff(k,x,n):\n",
    "    return lambda_over_alpha(k,n)*np.exp(1j*k*x)"
   ]
  },
  {
   "cell_type": "code",
   "execution_count": 23,
   "metadata": {},
   "outputs": [],
   "source": [
    "def lambda_over_alpha_ff(x,n):\n",
    "    return integrate.quad(lambda_over_alpha_toff,(-n-0.5)/epsilon,(n+0.5)/epsilon,args=(x,n))[0]"
   ]
  },
  {
   "cell_type": "code",
   "execution_count": 104,
   "metadata": {},
   "outputs": [
    {
     "data": {
      "text/plain": [
       "array([ 1.05896451e+06, -5.72956085e+05,  4.94230264e+04, -6.94881672e+03,\n",
       "        1.18789352e+03, -2.26802887e+02,  4.71940905e+01, -1.09685832e+01,\n",
       "        3.14885484e+00, -1.29489399e+00])"
      ]
     },
     "execution_count": 104,
     "metadata": {},
     "output_type": "execute_result"
    }
   ],
   "source": [
    "horizon = 10\n",
    "kernel = np.zeros(10)\n",
    "for i in range(10):\n",
    "    kernel[i] = integrate.quad(fourier_toint,-0.5/epsilon,0.5/epsilon,args=i)[0]\n",
    "kernel"
   ]
  },
  {
   "cell_type": "code",
   "execution_count": 99,
   "metadata": {},
   "outputs": [
    {
     "data": {
      "text/plain": [
       "array([-46455422.58398477,  13773541.27639271,  -6937200.08432795,\n",
       "         4174195.70259144,  -2763122.09339232,   1951998.65404403,\n",
       "        -1447387.13962282,   1114077.55070622,   -883193.42131715,\n",
       "          716978.03269075])"
      ]
     },
     "execution_count": 99,
     "metadata": {},
     "output_type": "execute_result"
    }
   ],
   "source": [
    "kernel/l"
   ]
  },
  {
   "cell_type": "code",
   "execution_count": 60,
   "metadata": {},
   "outputs": [
    {
     "data": {
      "text/plain": [
       "0.003184713375796178"
      ]
     },
     "execution_count": 60,
     "metadata": {},
     "output_type": "execute_result"
    }
   ],
   "source": [
    "l/2/3.14"
   ]
  },
  {
   "cell_type": "code",
   "execution_count": 62,
   "metadata": {},
   "outputs": [
    {
     "data": {
      "text/plain": [
       "314.15926535897927"
      ]
     },
     "execution_count": 62,
     "metadata": {},
     "output_type": "execute_result"
    }
   ],
   "source": [
    "1/epsilon"
   ]
  },
  {
   "cell_type": "code",
   "execution_count": null,
   "metadata": {},
   "outputs": [],
   "source": []
  }
 ],
 "metadata": {
  "kernelspec": {
   "display_name": "Python 3",
   "language": "python",
   "name": "python3"
  },
  "language_info": {
   "codemirror_mode": {
    "name": "ipython",
    "version": 3
   },
   "file_extension": ".py",
   "mimetype": "text/x-python",
   "name": "python",
   "nbconvert_exporter": "python",
   "pygments_lexer": "ipython3",
   "version": "3.6.5"
  }
 },
 "nbformat": 4,
 "nbformat_minor": 2
}
